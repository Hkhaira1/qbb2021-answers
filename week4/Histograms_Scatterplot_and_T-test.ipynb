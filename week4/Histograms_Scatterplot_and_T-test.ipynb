{
 "cells": [
  {
   "cell_type": "code",
   "execution_count": 5,
   "metadata": {},
   "outputs": [],
   "source": [
    "##IMPORT PACKAGES\n",
    "import matplotlib.pyplot as plt\n",
    "import pandas as pd\n",
    "import numpy as np"
   ]
  },
  {
   "cell_type": "code",
   "execution_count": 106,
   "metadata": {},
   "outputs": [],
   "source": [
    "##TURN THE DUPLICATED BEDGRAPH FILE FOR E5.5 INTO A DATAFRAME\n",
    "df3=pd.read_csv(\"/Users/cmdb/qbb2021-answers/week4/SRR3083929_1.chr6_bismark_bt2_pe.deduplicated.bedGraph\", sep=\"\\t\",comment='t',header=None)"
   ]
  },
  {
   "cell_type": "code",
   "execution_count": 107,
   "metadata": {},
   "outputs": [
    {
     "data": {
      "text/html": [
       "<div>\n",
       "<style scoped>\n",
       "    .dataframe tbody tr th:only-of-type {\n",
       "        vertical-align: middle;\n",
       "    }\n",
       "\n",
       "    .dataframe tbody tr th {\n",
       "        vertical-align: top;\n",
       "    }\n",
       "\n",
       "    .dataframe thead th {\n",
       "        text-align: right;\n",
       "    }\n",
       "</style>\n",
       "<table border=\"1\" class=\"dataframe\">\n",
       "  <thead>\n",
       "    <tr style=\"text-align: right;\">\n",
       "      <th></th>\n",
       "      <th>CHR</th>\n",
       "      <th>START</th>\n",
       "      <th>END</th>\n",
       "      <th>SCORE</th>\n",
       "    </tr>\n",
       "  </thead>\n",
       "  <tbody>\n",
       "    <tr>\n",
       "      <th>0</th>\n",
       "      <td>chr6</td>\n",
       "      <td>50000557</td>\n",
       "      <td>50000558</td>\n",
       "      <td>0.0</td>\n",
       "    </tr>\n",
       "    <tr>\n",
       "      <th>1</th>\n",
       "      <td>chr6</td>\n",
       "      <td>50000626</td>\n",
       "      <td>50000627</td>\n",
       "      <td>100.0</td>\n",
       "    </tr>\n",
       "    <tr>\n",
       "      <th>2</th>\n",
       "      <td>chr6</td>\n",
       "      <td>50000643</td>\n",
       "      <td>50000644</td>\n",
       "      <td>100.0</td>\n",
       "    </tr>\n",
       "    <tr>\n",
       "      <th>3</th>\n",
       "      <td>chr6</td>\n",
       "      <td>50001247</td>\n",
       "      <td>50001248</td>\n",
       "      <td>50.0</td>\n",
       "    </tr>\n",
       "    <tr>\n",
       "      <th>4</th>\n",
       "      <td>chr6</td>\n",
       "      <td>50001543</td>\n",
       "      <td>50001544</td>\n",
       "      <td>0.0</td>\n",
       "    </tr>\n",
       "    <tr>\n",
       "      <th>...</th>\n",
       "      <td>...</td>\n",
       "      <td>...</td>\n",
       "      <td>...</td>\n",
       "      <td>...</td>\n",
       "    </tr>\n",
       "    <tr>\n",
       "      <th>72815</th>\n",
       "      <td>chr6</td>\n",
       "      <td>59998824</td>\n",
       "      <td>59998825</td>\n",
       "      <td>50.0</td>\n",
       "    </tr>\n",
       "    <tr>\n",
       "      <th>72816</th>\n",
       "      <td>chr6</td>\n",
       "      <td>59999321</td>\n",
       "      <td>59999322</td>\n",
       "      <td>0.0</td>\n",
       "    </tr>\n",
       "    <tr>\n",
       "      <th>72817</th>\n",
       "      <td>chr6</td>\n",
       "      <td>59999436</td>\n",
       "      <td>59999437</td>\n",
       "      <td>0.0</td>\n",
       "    </tr>\n",
       "    <tr>\n",
       "      <th>72818</th>\n",
       "      <td>chr6</td>\n",
       "      <td>59999524</td>\n",
       "      <td>59999525</td>\n",
       "      <td>0.0</td>\n",
       "    </tr>\n",
       "    <tr>\n",
       "      <th>72819</th>\n",
       "      <td>chr6</td>\n",
       "      <td>59999834</td>\n",
       "      <td>59999835</td>\n",
       "      <td>0.0</td>\n",
       "    </tr>\n",
       "  </tbody>\n",
       "</table>\n",
       "<p>72820 rows × 4 columns</p>\n",
       "</div>"
      ],
      "text/plain": [
       "        CHR     START       END  SCORE\n",
       "0      chr6  50000557  50000558    0.0\n",
       "1      chr6  50000626  50000627  100.0\n",
       "2      chr6  50000643  50000644  100.0\n",
       "3      chr6  50001247  50001248   50.0\n",
       "4      chr6  50001543  50001544    0.0\n",
       "...     ...       ...       ...    ...\n",
       "72815  chr6  59998824  59998825   50.0\n",
       "72816  chr6  59999321  59999322    0.0\n",
       "72817  chr6  59999436  59999437    0.0\n",
       "72818  chr6  59999524  59999525    0.0\n",
       "72819  chr6  59999834  59999835    0.0\n",
       "\n",
       "[72820 rows x 4 columns]"
      ]
     },
     "execution_count": 107,
     "metadata": {},
     "output_type": "execute_result"
    }
   ],
   "source": [
    "##ASSIGN COLUMN NAMES FOR THE DATA FRAME, THE LAST COLUMN IS WHAT WE WILL BE WORKING WITH\n",
    "df3.columns=[\"CHR\",'START','END','SCORE']\n",
    "df3"
   ]
  },
  {
   "cell_type": "code",
   "execution_count": 109,
   "metadata": {},
   "outputs": [
    {
     "data": {
      "text/plain": [
       "0        0.000000e+00\n",
       "1        1.000000e+02\n",
       "2        2.000000e+02\n",
       "3        2.500000e+02\n",
       "4        2.500000e+02\n",
       "             ...     \n",
       "72815    4.614425e+06\n",
       "72816    4.614425e+06\n",
       "72817    4.614425e+06\n",
       "72818    4.614425e+06\n",
       "72819    4.614425e+06\n",
       "Name: CUMSUM_Score, Length: 72820, dtype: float64"
      ]
     },
     "execution_count": 109,
     "metadata": {},
     "output_type": "execute_result"
    }
   ],
   "source": [
    "##SINCE WE WANT THE CUMULATIVE SUM OF THE SCORE COLUMN, I USED THE .CUMSUM FUNCTION TO ADDA UP ALL THE SCORES THROUGHOUT THE FILE\n",
    "df3['CUMSUM_Score'] = df3['SCORE'].cumsum()\n",
    "df3['CUMSUM_Score']"
   ]
  },
  {
   "cell_type": "code",
   "execution_count": 111,
   "metadata": {},
   "outputs": [
    {
     "data": {
      "image/png": "[encoded data removed]",
      "text/plain": [
       "<Figure size 432x288 with 1 Axes>"
      ]
     },
     "metadata": {
      "needs_background": "light"
     },
     "output_type": "display_data"
    }
   ],
   "source": [
    "##PLOT THE CUMULATIVE SUM OF THE E5.5 FILE\n",
    "x=df3['CUMSUM_Score']\n",
    "fig,ax=plt.subplots()\n",
    "ax.hist(x, color='blue', alpha=0.5,bins=50)\n",
    "ax.set_ylabel(\"Cumulative Sum\")\n",
    "ax.set_title(\"Cumulative Methylation E5.5\")\n",
    "plt.show()"
   ]
  },
  {
   "cell_type": "code",
   "execution_count": 112,
   "metadata": {},
   "outputs": [],
   "source": [
    "##TURN THE E4.0 BEDGRAPH FILE INTO A DATAFRAME\n",
    "df4=pd.read_csv(\"/Users/cmdb/qbb2021-answers/week4/SRR3083926_1.chr6_bismark_bt2_pe.deduplicated.bedGraph\", sep=\"\\t\",comment='t',header=None)"
   ]
  },
  {
   "cell_type": "code",
   "execution_count": 113,
   "metadata": {},
   "outputs": [
    {
     "data": {
      "text/html": [
       "<div>\n",
       "<style scoped>\n",
       "    .dataframe tbody tr th:only-of-type {\n",
       "        vertical-align: middle;\n",
       "    }\n",
       "\n",
       "    .dataframe tbody tr th {\n",
       "        vertical-align: top;\n",
       "    }\n",
       "\n",
       "    .dataframe thead th {\n",
       "        text-align: right;\n",
       "    }\n",
       "</style>\n",
       "<table border=\"1\" class=\"dataframe\">\n",
       "  <thead>\n",
       "    <tr style=\"text-align: right;\">\n",
       "      <th></th>\n",
       "      <th>CHR</th>\n",
       "      <th>START</th>\n",
       "      <th>END</th>\n",
       "      <th>SCORE</th>\n",
       "    </tr>\n",
       "  </thead>\n",
       "  <tbody>\n",
       "    <tr>\n",
       "      <th>0</th>\n",
       "      <td>chr6</td>\n",
       "      <td>49999926</td>\n",
       "      <td>49999927</td>\n",
       "      <td>0.000000</td>\n",
       "    </tr>\n",
       "    <tr>\n",
       "      <th>1</th>\n",
       "      <td>chr6</td>\n",
       "      <td>49999965</td>\n",
       "      <td>49999966</td>\n",
       "      <td>0.000000</td>\n",
       "    </tr>\n",
       "    <tr>\n",
       "      <th>2</th>\n",
       "      <td>chr6</td>\n",
       "      <td>50000074</td>\n",
       "      <td>50000075</td>\n",
       "      <td>0.000000</td>\n",
       "    </tr>\n",
       "    <tr>\n",
       "      <th>3</th>\n",
       "      <td>chr6</td>\n",
       "      <td>50000077</td>\n",
       "      <td>50000078</td>\n",
       "      <td>0.000000</td>\n",
       "    </tr>\n",
       "    <tr>\n",
       "      <th>4</th>\n",
       "      <td>chr6</td>\n",
       "      <td>50000556</td>\n",
       "      <td>50000557</td>\n",
       "      <td>0.000000</td>\n",
       "    </tr>\n",
       "    <tr>\n",
       "      <th>...</th>\n",
       "      <td>...</td>\n",
       "      <td>...</td>\n",
       "      <td>...</td>\n",
       "      <td>...</td>\n",
       "    </tr>\n",
       "    <tr>\n",
       "      <th>51623</th>\n",
       "      <td>chr6</td>\n",
       "      <td>59997276</td>\n",
       "      <td>59997277</td>\n",
       "      <td>0.000000</td>\n",
       "    </tr>\n",
       "    <tr>\n",
       "      <th>51624</th>\n",
       "      <td>chr6</td>\n",
       "      <td>59998070</td>\n",
       "      <td>59998071</td>\n",
       "      <td>33.333333</td>\n",
       "    </tr>\n",
       "    <tr>\n",
       "      <th>51625</th>\n",
       "      <td>chr6</td>\n",
       "      <td>59998551</td>\n",
       "      <td>59998552</td>\n",
       "      <td>0.000000</td>\n",
       "    </tr>\n",
       "    <tr>\n",
       "      <th>51626</th>\n",
       "      <td>chr6</td>\n",
       "      <td>59998824</td>\n",
       "      <td>59998825</td>\n",
       "      <td>0.000000</td>\n",
       "    </tr>\n",
       "    <tr>\n",
       "      <th>51627</th>\n",
       "      <td>chr6</td>\n",
       "      <td>59999835</td>\n",
       "      <td>59999836</td>\n",
       "      <td>0.000000</td>\n",
       "    </tr>\n",
       "  </tbody>\n",
       "</table>\n",
       "<p>51628 rows × 4 columns</p>\n",
       "</div>"
      ],
      "text/plain": [
       "        CHR     START       END      SCORE\n",
       "0      chr6  49999926  49999927   0.000000\n",
       "1      chr6  49999965  49999966   0.000000\n",
       "2      chr6  50000074  50000075   0.000000\n",
       "3      chr6  50000077  50000078   0.000000\n",
       "4      chr6  50000556  50000557   0.000000\n",
       "...     ...       ...       ...        ...\n",
       "51623  chr6  59997276  59997277   0.000000\n",
       "51624  chr6  59998070  59998071  33.333333\n",
       "51625  chr6  59998551  59998552   0.000000\n",
       "51626  chr6  59998824  59998825   0.000000\n",
       "51627  chr6  59999835  59999836   0.000000\n",
       "\n",
       "[51628 rows x 4 columns]"
      ]
     },
     "execution_count": 113,
     "metadata": {},
     "output_type": "execute_result"
    }
   ],
   "source": [
    "#ASSIGN COLUMN NAMES, SAME AS ABOVE\n",
    "df4.columns=[\"CHR\",'START','END','SCORE']\n",
    "df4"
   ]
  },
  {
   "cell_type": "code",
   "execution_count": 114,
   "metadata": {},
   "outputs": [
    {
     "data": {
      "text/plain": [
       "0             0.000000\n",
       "1             0.000000\n",
       "2             0.000000\n",
       "3             0.000000\n",
       "4             0.000000\n",
       "             ...      \n",
       "51623    986221.113832\n",
       "51624    986254.447165\n",
       "51625    986254.447165\n",
       "51626    986254.447165\n",
       "51627    986254.447165\n",
       "Name: CUMSUM_Score, Length: 51628, dtype: float64"
      ]
     },
     "execution_count": 114,
     "metadata": {},
     "output_type": "execute_result"
    }
   ],
   "source": [
    "##USE THE .CUMSUM FUNCTION TO ADD ALL THE SCORES\n",
    "df4['CUMSUM_Score'] = df4['SCORE'].cumsum()\n",
    "df4['CUMSUM_Score']"
   ]
  },
  {
   "cell_type": "code",
   "execution_count": 115,
   "metadata": {},
   "outputs": [
    {
     "data": {
      "image/png": "[encoded data removed]",
      "text/plain": [
       "<Figure size 432x288 with 1 Axes>"
      ]
     },
     "metadata": {
      "needs_background": "light"
     },
     "output_type": "display_data"
    }
   ],
   "source": [
    "##PLOT THE CUMULATIVE SUMS\n",
    "y=df4['CUMSUM_Score']\n",
    "fig,ax=plt.subplots()\n",
    "ax.hist(y, color='blue', alpha=0.5,bins=50)\n",
    "ax.set_ylabel(\"Cumulative Sum\")\n",
    "ax.set_title(\"Cumulative Methylation E4.0\")\n",
    "plt.show()"
   ]
  },
  {
   "cell_type": "code",
   "execution_count": null,
   "metadata": {},
   "outputs": [],
   "source": [
    "##Since we plan to create a scatter plot we need equal values in x and y, so I decided to take the 51628 rows from the scores section ans plot them against each other from the two dataframes."
   ]
  },
  {
   "cell_type": "code",
   "execution_count": 128,
   "metadata": {},
   "outputs": [
    {
     "data": {
      "text/html": [
       "<div>\n",
       "<style scoped>\n",
       "    .dataframe tbody tr th:only-of-type {\n",
       "        vertical-align: middle;\n",
       "    }\n",
       "\n",
       "    .dataframe tbody tr th {\n",
       "        vertical-align: top;\n",
       "    }\n",
       "\n",
       "    .dataframe thead th {\n",
       "        text-align: right;\n",
       "    }\n",
       "</style>\n",
       "<table border=\"1\" class=\"dataframe\">\n",
       "  <thead>\n",
       "    <tr style=\"text-align: right;\">\n",
       "      <th></th>\n",
       "      <th>CHR</th>\n",
       "      <th>START</th>\n",
       "      <th>END</th>\n",
       "      <th>SCORE</th>\n",
       "      <th>CUMSUM_Score</th>\n",
       "    </tr>\n",
       "  </thead>\n",
       "  <tbody>\n",
       "    <tr>\n",
       "      <th>0</th>\n",
       "      <td>chr6</td>\n",
       "      <td>49999926</td>\n",
       "      <td>49999927</td>\n",
       "      <td>0.000000</td>\n",
       "      <td>0.000000</td>\n",
       "    </tr>\n",
       "    <tr>\n",
       "      <th>1</th>\n",
       "      <td>chr6</td>\n",
       "      <td>49999965</td>\n",
       "      <td>49999966</td>\n",
       "      <td>0.000000</td>\n",
       "      <td>0.000000</td>\n",
       "    </tr>\n",
       "    <tr>\n",
       "      <th>2</th>\n",
       "      <td>chr6</td>\n",
       "      <td>50000074</td>\n",
       "      <td>50000075</td>\n",
       "      <td>0.000000</td>\n",
       "      <td>0.000000</td>\n",
       "    </tr>\n",
       "    <tr>\n",
       "      <th>3</th>\n",
       "      <td>chr6</td>\n",
       "      <td>50000077</td>\n",
       "      <td>50000078</td>\n",
       "      <td>0.000000</td>\n",
       "      <td>0.000000</td>\n",
       "    </tr>\n",
       "    <tr>\n",
       "      <th>4</th>\n",
       "      <td>chr6</td>\n",
       "      <td>50000556</td>\n",
       "      <td>50000557</td>\n",
       "      <td>0.000000</td>\n",
       "      <td>0.000000</td>\n",
       "    </tr>\n",
       "    <tr>\n",
       "      <th>...</th>\n",
       "      <td>...</td>\n",
       "      <td>...</td>\n",
       "      <td>...</td>\n",
       "      <td>...</td>\n",
       "      <td>...</td>\n",
       "    </tr>\n",
       "    <tr>\n",
       "      <th>51623</th>\n",
       "      <td>chr6</td>\n",
       "      <td>59997276</td>\n",
       "      <td>59997277</td>\n",
       "      <td>0.000000</td>\n",
       "      <td>986221.113832</td>\n",
       "    </tr>\n",
       "    <tr>\n",
       "      <th>51624</th>\n",
       "      <td>chr6</td>\n",
       "      <td>59998070</td>\n",
       "      <td>59998071</td>\n",
       "      <td>33.333333</td>\n",
       "      <td>986254.447165</td>\n",
       "    </tr>\n",
       "    <tr>\n",
       "      <th>51625</th>\n",
       "      <td>chr6</td>\n",
       "      <td>59998551</td>\n",
       "      <td>59998552</td>\n",
       "      <td>0.000000</td>\n",
       "      <td>986254.447165</td>\n",
       "    </tr>\n",
       "    <tr>\n",
       "      <th>51626</th>\n",
       "      <td>chr6</td>\n",
       "      <td>59998824</td>\n",
       "      <td>59998825</td>\n",
       "      <td>0.000000</td>\n",
       "      <td>986254.447165</td>\n",
       "    </tr>\n",
       "    <tr>\n",
       "      <th>51627</th>\n",
       "      <td>chr6</td>\n",
       "      <td>59999835</td>\n",
       "      <td>59999836</td>\n",
       "      <td>0.000000</td>\n",
       "      <td>986254.447165</td>\n",
       "    </tr>\n",
       "  </tbody>\n",
       "</table>\n",
       "<p>51628 rows × 5 columns</p>\n",
       "</div>"
      ],
      "text/plain": [
       "        CHR     START       END      SCORE   CUMSUM_Score\n",
       "0      chr6  49999926  49999927   0.000000       0.000000\n",
       "1      chr6  49999965  49999966   0.000000       0.000000\n",
       "2      chr6  50000074  50000075   0.000000       0.000000\n",
       "3      chr6  50000077  50000078   0.000000       0.000000\n",
       "4      chr6  50000556  50000557   0.000000       0.000000\n",
       "...     ...       ...       ...        ...            ...\n",
       "51623  chr6  59997276  59997277   0.000000  986221.113832\n",
       "51624  chr6  59998070  59998071  33.333333  986254.447165\n",
       "51625  chr6  59998551  59998552   0.000000  986254.447165\n",
       "51626  chr6  59998824  59998825   0.000000  986254.447165\n",
       "51627  chr6  59999835  59999836   0.000000  986254.447165\n",
       "\n",
       "[51628 rows x 5 columns]"
      ]
     },
     "execution_count": 128,
     "metadata": {},
     "output_type": "execute_result"
    }
   ],
   "source": [
    "E4= df4.loc[:51627,:]\n",
    "E4"
   ]
  },
  {
   "cell_type": "code",
   "execution_count": 129,
   "metadata": {},
   "outputs": [
    {
     "data": {
      "text/html": [
       "<div>\n",
       "<style scoped>\n",
       "    .dataframe tbody tr th:only-of-type {\n",
       "        vertical-align: middle;\n",
       "    }\n",
       "\n",
       "    .dataframe tbody tr th {\n",
       "        vertical-align: top;\n",
       "    }\n",
       "\n",
       "    .dataframe thead th {\n",
       "        text-align: right;\n",
       "    }\n",
       "</style>\n",
       "<table border=\"1\" class=\"dataframe\">\n",
       "  <thead>\n",
       "    <tr style=\"text-align: right;\">\n",
       "      <th></th>\n",
       "      <th>CHR</th>\n",
       "      <th>START</th>\n",
       "      <th>END</th>\n",
       "      <th>SCORE</th>\n",
       "      <th>CUMSUM_Score</th>\n",
       "    </tr>\n",
       "  </thead>\n",
       "  <tbody>\n",
       "    <tr>\n",
       "      <th>0</th>\n",
       "      <td>chr6</td>\n",
       "      <td>50000557</td>\n",
       "      <td>50000558</td>\n",
       "      <td>0.0</td>\n",
       "      <td>0.000000e+00</td>\n",
       "    </tr>\n",
       "    <tr>\n",
       "      <th>1</th>\n",
       "      <td>chr6</td>\n",
       "      <td>50000626</td>\n",
       "      <td>50000627</td>\n",
       "      <td>100.0</td>\n",
       "      <td>1.000000e+02</td>\n",
       "    </tr>\n",
       "    <tr>\n",
       "      <th>2</th>\n",
       "      <td>chr6</td>\n",
       "      <td>50000643</td>\n",
       "      <td>50000644</td>\n",
       "      <td>100.0</td>\n",
       "      <td>2.000000e+02</td>\n",
       "    </tr>\n",
       "    <tr>\n",
       "      <th>3</th>\n",
       "      <td>chr6</td>\n",
       "      <td>50001247</td>\n",
       "      <td>50001248</td>\n",
       "      <td>50.0</td>\n",
       "      <td>2.500000e+02</td>\n",
       "    </tr>\n",
       "    <tr>\n",
       "      <th>4</th>\n",
       "      <td>chr6</td>\n",
       "      <td>50001543</td>\n",
       "      <td>50001544</td>\n",
       "      <td>0.0</td>\n",
       "      <td>2.500000e+02</td>\n",
       "    </tr>\n",
       "    <tr>\n",
       "      <th>...</th>\n",
       "      <td>...</td>\n",
       "      <td>...</td>\n",
       "      <td>...</td>\n",
       "      <td>...</td>\n",
       "      <td>...</td>\n",
       "    </tr>\n",
       "    <tr>\n",
       "      <th>51623</th>\n",
       "      <td>chr6</td>\n",
       "      <td>56449806</td>\n",
       "      <td>56449807</td>\n",
       "      <td>50.0</td>\n",
       "      <td>3.299225e+06</td>\n",
       "    </tr>\n",
       "    <tr>\n",
       "      <th>51624</th>\n",
       "      <td>chr6</td>\n",
       "      <td>56449864</td>\n",
       "      <td>56449865</td>\n",
       "      <td>100.0</td>\n",
       "      <td>3.299325e+06</td>\n",
       "    </tr>\n",
       "    <tr>\n",
       "      <th>51625</th>\n",
       "      <td>chr6</td>\n",
       "      <td>56449883</td>\n",
       "      <td>56449884</td>\n",
       "      <td>100.0</td>\n",
       "      <td>3.299425e+06</td>\n",
       "    </tr>\n",
       "    <tr>\n",
       "      <th>51626</th>\n",
       "      <td>chr6</td>\n",
       "      <td>56449884</td>\n",
       "      <td>56449885</td>\n",
       "      <td>50.0</td>\n",
       "      <td>3.299475e+06</td>\n",
       "    </tr>\n",
       "    <tr>\n",
       "      <th>51627</th>\n",
       "      <td>chr6</td>\n",
       "      <td>56449900</td>\n",
       "      <td>56449901</td>\n",
       "      <td>100.0</td>\n",
       "      <td>3.299575e+06</td>\n",
       "    </tr>\n",
       "  </tbody>\n",
       "</table>\n",
       "<p>51628 rows × 5 columns</p>\n",
       "</div>"
      ],
      "text/plain": [
       "        CHR     START       END  SCORE  CUMSUM_Score\n",
       "0      chr6  50000557  50000558    0.0  0.000000e+00\n",
       "1      chr6  50000626  50000627  100.0  1.000000e+02\n",
       "2      chr6  50000643  50000644  100.0  2.000000e+02\n",
       "3      chr6  50001247  50001248   50.0  2.500000e+02\n",
       "4      chr6  50001543  50001544    0.0  2.500000e+02\n",
       "...     ...       ...       ...    ...           ...\n",
       "51623  chr6  56449806  56449807   50.0  3.299225e+06\n",
       "51624  chr6  56449864  56449865  100.0  3.299325e+06\n",
       "51625  chr6  56449883  56449884  100.0  3.299425e+06\n",
       "51626  chr6  56449884  56449885   50.0  3.299475e+06\n",
       "51627  chr6  56449900  56449901  100.0  3.299575e+06\n",
       "\n",
       "[51628 rows x 5 columns]"
      ]
     },
     "execution_count": 129,
     "metadata": {},
     "output_type": "execute_result"
    }
   ],
   "source": [
    "E5_5=df3.loc[:51627,:]\n",
    "E5_5"
   ]
  },
  {
   "cell_type": "code",
   "execution_count": 134,
   "metadata": {},
   "outputs": [],
   "source": [
    "a=E4.loc[:,'SCORE']"
   ]
  },
  {
   "cell_type": "code",
   "execution_count": 133,
   "metadata": {},
   "outputs": [],
   "source": [
    "b=E5_5.loc[:,\"SCORE\"]"
   ]
  },
  {
   "cell_type": "code",
   "execution_count": 136,
   "metadata": {},
   "outputs": [
    {
     "data": {
      "image/png": "[encoded data removed]",
      "text/plain": [
       "<Figure size 432x288 with 1 Axes>"
      ]
     },
     "metadata": {
      "needs_background": "light"
     },
     "output_type": "display_data"
    }
   ],
   "source": [
    "fig, ax = plt.subplots()\n",
    "ax.scatter(a, b)\n",
    "ax.set_title('Scatter Plot of E4 abd E5.5 methylation scores')\n",
    "ax.set_xlabel(\"E4.0\")\n",
    "ax.set_ylabel(\"E5.5\")\n",
    "plt.show()"
   ]
  },
  {
   "cell_type": "code",
   "execution_count": null,
   "metadata": {},
   "outputs": [],
   "source": [
    "##USING THE SCIPY PACKAGE DO A T-TEST COMPARING E4 AND E5_5 METHYLATION SCORES"
   ]
  },
  {
   "cell_type": "code",
   "execution_count": 124,
   "metadata": {},
   "outputs": [],
   "source": [
    "from scipy import stats"
   ]
  },
  {
   "cell_type": "code",
   "execution_count": 137,
   "metadata": {},
   "outputs": [
    {
     "data": {
      "text/plain": [
       "Ttest_indResult(statistic=-177.06178726638836, pvalue=0.0)"
      ]
     },
     "execution_count": 137,
     "metadata": {},
     "output_type": "execute_result"
    }
   ],
   "source": [
    "stats.ttest_ind(E4[\"SCORE\"],E5_5[\"SCORE\"])"
   ]
  },
  {
   "cell_type": "code",
   "execution_count": 138,
   "metadata": {},
   "outputs": [
    {
     "data": {
      "text/plain": [
       "Ttest_indResult(statistic=177.06178726638836, pvalue=0.0)"
      ]
     },
     "execution_count": 138,
     "metadata": {},
     "output_type": "execute_result"
    }
   ],
   "source": [
    "stats.ttest_ind(E5_5[\"SCORE\"],E4[\"SCORE\"])"
   ]
  },
  {
   "cell_type": "code",
   "execution_count": null,
   "metadata": {},
   "outputs": [],
   "source": []
  }
 ],
 "metadata": {
  "kernelspec": {
   "display_name": "Python 3",
   "language": "python",
   "name": "python3"
  },
  "language_info": {
   "codemirror_mode": {
    "name": "ipython",
    "version": 3
   },
   "file_extension": ".py",
   "mimetype": "text/x-python",
   "name": "python",
   "nbconvert_exporter": "python",
   "pygments_lexer": "ipython3",
   "version": "3.7.1"
  }
 },
 "nbformat": 4,
 "nbformat_minor": 4
}
