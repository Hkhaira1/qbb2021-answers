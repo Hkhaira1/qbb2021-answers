{
 "cells": [
  {
   "cell_type": "markdown",
   "metadata": {},
   "source": [
    "## Covert all the .vcf files from step #7 into dataframes "
   ]
  },
  {
   "cell_type": "code",
   "execution_count": 1,
   "metadata": {},
   "outputs": [],
   "source": [
    "import numpy as np\n",
    "import matplotlib.pyplot as plt\n",
    "\n",
    "\n",
    "    "
   ]
  },
  {
   "cell_type": "code",
   "execution_count": 2,
   "metadata": {},
   "outputs": [
    {
     "data": {
      "text/html": [
       "<div>\n",
       "<style scoped>\n",
       "    .dataframe tbody tr th:only-of-type {\n",
       "        vertical-align: middle;\n",
       "    }\n",
       "\n",
       "    .dataframe tbody tr th {\n",
       "        vertical-align: top;\n",
       "    }\n",
       "\n",
       "    .dataframe thead th {\n",
       "        text-align: right;\n",
       "    }\n",
       "</style>\n",
       "<table border=\"1\" class=\"dataframe\">\n",
       "  <thead>\n",
       "    <tr style=\"text-align: right;\">\n",
       "      <th></th>\n",
       "      <th>CHROM</th>\n",
       "      <th>POS</th>\n",
       "      <th>ID</th>\n",
       "      <th>REF</th>\n",
       "      <th>ALT</th>\n",
       "      <th>QUAL</th>\n",
       "      <th>FILTER</th>\n",
       "      <th>INFO</th>\n",
       "      <th>FORMAT</th>\n",
       "      <th>Sample1</th>\n",
       "    </tr>\n",
       "  </thead>\n",
       "  <tbody>\n",
       "    <tr>\n",
       "      <th>0</th>\n",
       "      <td>chrI</td>\n",
       "      <td>310</td>\n",
       "      <td>.</td>\n",
       "      <td>A</td>\n",
       "      <td>C</td>\n",
       "      <td>0.0</td>\n",
       "      <td>.</td>\n",
       "      <td>AB=0;ABP=0;AC=0;AF=0;AN=1;AO=4;CIGAR=1X;DP=10;...</td>\n",
       "      <td>GT:GQ:DP:RO:QR:AO:QA:GL</td>\n",
       "      <td>0:160.002:10:6:203:4:8:0,-17.8598</td>\n",
       "    </tr>\n",
       "    <tr>\n",
       "      <th>1</th>\n",
       "      <td>chrI</td>\n",
       "      <td>362</td>\n",
       "      <td>.</td>\n",
       "      <td>A</td>\n",
       "      <td>C</td>\n",
       "      <td>0.0</td>\n",
       "      <td>.</td>\n",
       "      <td>AB=0;ABP=0;AC=0;AF=0;AN=1;AO=4;CIGAR=1X;DP=15;...</td>\n",
       "      <td>GT:GQ:DP:RO:QR:AO:QA:GL</td>\n",
       "      <td>0:160.002:15:11:293:4:16:0,-25.1447</td>\n",
       "    </tr>\n",
       "    <tr>\n",
       "      <th>2</th>\n",
       "      <td>chrI</td>\n",
       "      <td>1025</td>\n",
       "      <td>.</td>\n",
       "      <td>C</td>\n",
       "      <td>T</td>\n",
       "      <td>1.49176E-14</td>\n",
       "      <td>.</td>\n",
       "      <td>AB=0;ABP=0;AC=0;AF=0;AN=1;AO=3;CIGAR=1X;DP=15;...</td>\n",
       "      <td>GT:GQ:DP:RO:QR:AO:QA:GL</td>\n",
       "      <td>0:144.641:15:12:342:3:86:0,-19.2956</td>\n",
       "    </tr>\n",
       "    <tr>\n",
       "      <th>3</th>\n",
       "      <td>chrI</td>\n",
       "      <td>1074</td>\n",
       "      <td>.</td>\n",
       "      <td>C</td>\n",
       "      <td>A</td>\n",
       "      <td>1.43747E-14</td>\n",
       "      <td>.</td>\n",
       "      <td>AB=0;ABP=0;AC=0;AF=0;AN=1;AO=9;CIGAR=1X;DP=29;...</td>\n",
       "      <td>GT:GQ:DP:RO:QR:AO:QA:GL</td>\n",
       "      <td>0:144.802:29:19:577:9:205:0,-19.5276</td>\n",
       "    </tr>\n",
       "    <tr>\n",
       "      <th>4</th>\n",
       "      <td>chrI</td>\n",
       "      <td>1101</td>\n",
       "      <td>.</td>\n",
       "      <td>G</td>\n",
       "      <td>A</td>\n",
       "      <td>51.7296</td>\n",
       "      <td>.</td>\n",
       "      <td>AB=0;ABP=0;AC=1;AF=1;AN=1;AO=14;CIGAR=1X;DP=28...</td>\n",
       "      <td>GT:GQ:DP:RO:QR:AO:QA:GL</td>\n",
       "      <td>1:51.7296:28:14:412:14:493:-2.01994,0</td>\n",
       "    </tr>\n",
       "    <tr>\n",
       "      <th>...</th>\n",
       "      <td>...</td>\n",
       "      <td>...</td>\n",
       "      <td>...</td>\n",
       "      <td>...</td>\n",
       "      <td>...</td>\n",
       "      <td>...</td>\n",
       "      <td>...</td>\n",
       "      <td>...</td>\n",
       "      <td>...</td>\n",
       "      <td>...</td>\n",
       "    </tr>\n",
       "    <tr>\n",
       "      <th>18523</th>\n",
       "      <td>chrXVI</td>\n",
       "      <td>942296</td>\n",
       "      <td>.</td>\n",
       "      <td>A</td>\n",
       "      <td>G</td>\n",
       "      <td>544.265</td>\n",
       "      <td>.</td>\n",
       "      <td>AB=0;ABP=0;AC=1;AF=1;AN=1;AO=22;CIGAR=1X;DP=22...</td>\n",
       "      <td>GT:GQ:DP:RO:QR:AO:QA:GL</td>\n",
       "      <td>1:160.002:22:0:0:22:700:-63.2848,0</td>\n",
       "    </tr>\n",
       "    <tr>\n",
       "      <th>18524</th>\n",
       "      <td>chrXVI</td>\n",
       "      <td>942377</td>\n",
       "      <td>.</td>\n",
       "      <td>A</td>\n",
       "      <td>G</td>\n",
       "      <td>386.869</td>\n",
       "      <td>.</td>\n",
       "      <td>AB=0;ABP=0;AC=1;AF=1;AN=1;AO=20;CIGAR=1X;DP=20...</td>\n",
       "      <td>GT:GQ:DP:RO:QR:AO:QA:GL</td>\n",
       "      <td>1:148.233:20:0:0:20:644:-49.3782,0</td>\n",
       "    </tr>\n",
       "    <tr>\n",
       "      <th>18525</th>\n",
       "      <td>chrXVI</td>\n",
       "      <td>942573</td>\n",
       "      <td>.</td>\n",
       "      <td>C</td>\n",
       "      <td>G</td>\n",
       "      <td>0.0298927</td>\n",
       "      <td>.</td>\n",
       "      <td>AB=0;ABP=0;AC=0;AF=0;AN=1;AO=4;CIGAR=1X;DP=8;D...</td>\n",
       "      <td>GT:GQ:DP:RO:QR:AO:QA:GL</td>\n",
       "      <td>0:21.6371:8:4:137:4:111:0,-2.16072</td>\n",
       "    </tr>\n",
       "    <tr>\n",
       "      <th>18526</th>\n",
       "      <td>chrXVI</td>\n",
       "      <td>942580</td>\n",
       "      <td>.</td>\n",
       "      <td>T</td>\n",
       "      <td>G</td>\n",
       "      <td>2.42152E-4</td>\n",
       "      <td>.</td>\n",
       "      <td>AB=0;ABP=0;AC=0;AF=0;AN=1;AO=4;CIGAR=1X;DP=9;D...</td>\n",
       "      <td>GT:GQ:DP:RO:QR:AO:QA:GL</td>\n",
       "      <td>0:42.5371:9:5:176:4:115:0,-5.15677</td>\n",
       "    </tr>\n",
       "    <tr>\n",
       "      <th>18527</th>\n",
       "      <td>chrXVI</td>\n",
       "      <td>942589</td>\n",
       "      <td>.</td>\n",
       "      <td>G</td>\n",
       "      <td>A</td>\n",
       "      <td>0.00490083</td>\n",
       "      <td>.</td>\n",
       "      <td>AB=0;ABP=0;AC=0;AF=0;AN=1;AO=5;CIGAR=1X;DP=10;...</td>\n",
       "      <td>GT:GQ:DP:RO:QR:AO:QA:GL</td>\n",
       "      <td>0:29.4776:10:5:160:5:140:0,-4.34521</td>\n",
       "    </tr>\n",
       "  </tbody>\n",
       "</table>\n",
       "<p>18528 rows × 10 columns</p>\n",
       "</div>"
      ],
      "text/plain": [
       "        CHROM     POS ID REF ALT         QUAL FILTER  \\\n",
       "0        chrI     310  .   A   C          0.0      .   \n",
       "1        chrI     362  .   A   C          0.0      .   \n",
       "2        chrI    1025  .   C   T  1.49176E-14      .   \n",
       "3        chrI    1074  .   C   A  1.43747E-14      .   \n",
       "4        chrI    1101  .   G   A      51.7296      .   \n",
       "...       ...     ... ..  ..  ..          ...    ...   \n",
       "18523  chrXVI  942296  .   A   G      544.265      .   \n",
       "18524  chrXVI  942377  .   A   G      386.869      .   \n",
       "18525  chrXVI  942573  .   C   G    0.0298927      .   \n",
       "18526  chrXVI  942580  .   T   G   2.42152E-4      .   \n",
       "18527  chrXVI  942589  .   G   A   0.00490083      .   \n",
       "\n",
       "                                                    INFO  \\\n",
       "0      AB=0;ABP=0;AC=0;AF=0;AN=1;AO=4;CIGAR=1X;DP=10;...   \n",
       "1      AB=0;ABP=0;AC=0;AF=0;AN=1;AO=4;CIGAR=1X;DP=15;...   \n",
       "2      AB=0;ABP=0;AC=0;AF=0;AN=1;AO=3;CIGAR=1X;DP=15;...   \n",
       "3      AB=0;ABP=0;AC=0;AF=0;AN=1;AO=9;CIGAR=1X;DP=29;...   \n",
       "4      AB=0;ABP=0;AC=1;AF=1;AN=1;AO=14;CIGAR=1X;DP=28...   \n",
       "...                                                  ...   \n",
       "18523  AB=0;ABP=0;AC=1;AF=1;AN=1;AO=22;CIGAR=1X;DP=22...   \n",
       "18524  AB=0;ABP=0;AC=1;AF=1;AN=1;AO=20;CIGAR=1X;DP=20...   \n",
       "18525  AB=0;ABP=0;AC=0;AF=0;AN=1;AO=4;CIGAR=1X;DP=8;D...   \n",
       "18526  AB=0;ABP=0;AC=0;AF=0;AN=1;AO=4;CIGAR=1X;DP=9;D...   \n",
       "18527  AB=0;ABP=0;AC=0;AF=0;AN=1;AO=5;CIGAR=1X;DP=10;...   \n",
       "\n",
       "                        FORMAT                                Sample1  \n",
       "0      GT:GQ:DP:RO:QR:AO:QA:GL      0:160.002:10:6:203:4:8:0,-17.8598  \n",
       "1      GT:GQ:DP:RO:QR:AO:QA:GL    0:160.002:15:11:293:4:16:0,-25.1447  \n",
       "2      GT:GQ:DP:RO:QR:AO:QA:GL    0:144.641:15:12:342:3:86:0,-19.2956  \n",
       "3      GT:GQ:DP:RO:QR:AO:QA:GL   0:144.802:29:19:577:9:205:0,-19.5276  \n",
       "4      GT:GQ:DP:RO:QR:AO:QA:GL  1:51.7296:28:14:412:14:493:-2.01994,0  \n",
       "...                        ...                                    ...  \n",
       "18523  GT:GQ:DP:RO:QR:AO:QA:GL     1:160.002:22:0:0:22:700:-63.2848,0  \n",
       "18524  GT:GQ:DP:RO:QR:AO:QA:GL     1:148.233:20:0:0:20:644:-49.3782,0  \n",
       "18525  GT:GQ:DP:RO:QR:AO:QA:GL     0:21.6371:8:4:137:4:111:0,-2.16072  \n",
       "18526  GT:GQ:DP:RO:QR:AO:QA:GL     0:42.5371:9:5:176:4:115:0,-5.15677  \n",
       "18527  GT:GQ:DP:RO:QR:AO:QA:GL    0:29.4776:10:5:160:5:140:0,-4.34521  \n",
       "\n",
       "[18528 rows x 10 columns]"
      ]
     },
     "execution_count": 2,
     "metadata": {},
     "output_type": "execute_result"
    }
   ],
   "source": [
    "import io\n",
    "import os\n",
    "import pandas as pd\n",
    "\n",
    "##The following function was adatpted from https://gist.github.com/dceoy/99d976a2c01e7f0ba1c813778f9db744\n",
    "def read_vcf(path):\n",
    "    with open(path, 'r') as f:\n",
    "        lines = [l for l in f if not l.startswith('##')]\n",
    "    return pd.read_csv(\n",
    "        io.StringIO(''.join(lines)),\n",
    "        dtype={'#CHROM': str, 'POS': int, 'ID': str, 'REF': str, 'ALT': str,\n",
    "               'QUAL': str, 'FILTER': str, 'INFO': str},\n",
    "        sep='\\t'\n",
    "    ).rename(columns={'#CHROM': 'CHROM'})\n",
    "    return \n",
    "##open each .vcf file as Dataframe\n",
    "f1=read_vcf(\"/Users/cmdb/week2/A01_09_filter_annot.vcf\")\n",
    "f1"
   ]
  },
  {
   "cell_type": "code",
   "execution_count": 3,
   "metadata": {},
   "outputs": [
    {
     "data": {
      "text/plain": [
       "pandas.core.frame.DataFrame"
      ]
     },
     "execution_count": 3,
     "metadata": {},
     "output_type": "execute_result"
    }
   ],
   "source": [
    "type(f1) #check for the data"
   ]
  },
  {
   "cell_type": "markdown",
   "metadata": {},
   "source": [
    "## Take the FORMAT column from the dataframe and make another dataframe so we can plot depth distrubution values."
   ]
  },
  {
   "cell_type": "code",
   "execution_count": 4,
   "metadata": {},
   "outputs": [
    {
     "data": {
      "text/html": [
       "<div>\n",
       "<style scoped>\n",
       "    .dataframe tbody tr th:only-of-type {\n",
       "        vertical-align: middle;\n",
       "    }\n",
       "\n",
       "    .dataframe tbody tr th {\n",
       "        vertical-align: top;\n",
       "    }\n",
       "\n",
       "    .dataframe thead th {\n",
       "        text-align: right;\n",
       "    }\n",
       "</style>\n",
       "<table border=\"1\" class=\"dataframe\">\n",
       "  <thead>\n",
       "    <tr style=\"text-align: right;\">\n",
       "      <th></th>\n",
       "      <th>GT</th>\n",
       "      <th>GQ</th>\n",
       "      <th>DP</th>\n",
       "      <th>RO</th>\n",
       "      <th>QR</th>\n",
       "      <th>AO</th>\n",
       "      <th>QA</th>\n",
       "      <th>GL</th>\n",
       "    </tr>\n",
       "  </thead>\n",
       "  <tbody>\n",
       "    <tr>\n",
       "      <th>0</th>\n",
       "      <td>GT</td>\n",
       "      <td>GQ</td>\n",
       "      <td>DP</td>\n",
       "      <td>RO</td>\n",
       "      <td>QR</td>\n",
       "      <td>AO</td>\n",
       "      <td>QA</td>\n",
       "      <td>GL</td>\n",
       "    </tr>\n",
       "    <tr>\n",
       "      <th>1</th>\n",
       "      <td>GT</td>\n",
       "      <td>GQ</td>\n",
       "      <td>DP</td>\n",
       "      <td>RO</td>\n",
       "      <td>QR</td>\n",
       "      <td>AO</td>\n",
       "      <td>QA</td>\n",
       "      <td>GL</td>\n",
       "    </tr>\n",
       "    <tr>\n",
       "      <th>2</th>\n",
       "      <td>GT</td>\n",
       "      <td>GQ</td>\n",
       "      <td>DP</td>\n",
       "      <td>RO</td>\n",
       "      <td>QR</td>\n",
       "      <td>AO</td>\n",
       "      <td>QA</td>\n",
       "      <td>GL</td>\n",
       "    </tr>\n",
       "    <tr>\n",
       "      <th>3</th>\n",
       "      <td>GT</td>\n",
       "      <td>GQ</td>\n",
       "      <td>DP</td>\n",
       "      <td>RO</td>\n",
       "      <td>QR</td>\n",
       "      <td>AO</td>\n",
       "      <td>QA</td>\n",
       "      <td>GL</td>\n",
       "    </tr>\n",
       "    <tr>\n",
       "      <th>4</th>\n",
       "      <td>GT</td>\n",
       "      <td>GQ</td>\n",
       "      <td>DP</td>\n",
       "      <td>RO</td>\n",
       "      <td>QR</td>\n",
       "      <td>AO</td>\n",
       "      <td>QA</td>\n",
       "      <td>GL</td>\n",
       "    </tr>\n",
       "    <tr>\n",
       "      <th>...</th>\n",
       "      <td>...</td>\n",
       "      <td>...</td>\n",
       "      <td>...</td>\n",
       "      <td>...</td>\n",
       "      <td>...</td>\n",
       "      <td>...</td>\n",
       "      <td>...</td>\n",
       "      <td>...</td>\n",
       "    </tr>\n",
       "    <tr>\n",
       "      <th>18523</th>\n",
       "      <td>GT</td>\n",
       "      <td>GQ</td>\n",
       "      <td>DP</td>\n",
       "      <td>RO</td>\n",
       "      <td>QR</td>\n",
       "      <td>AO</td>\n",
       "      <td>QA</td>\n",
       "      <td>GL</td>\n",
       "    </tr>\n",
       "    <tr>\n",
       "      <th>18524</th>\n",
       "      <td>GT</td>\n",
       "      <td>GQ</td>\n",
       "      <td>DP</td>\n",
       "      <td>RO</td>\n",
       "      <td>QR</td>\n",
       "      <td>AO</td>\n",
       "      <td>QA</td>\n",
       "      <td>GL</td>\n",
       "    </tr>\n",
       "    <tr>\n",
       "      <th>18525</th>\n",
       "      <td>GT</td>\n",
       "      <td>GQ</td>\n",
       "      <td>DP</td>\n",
       "      <td>RO</td>\n",
       "      <td>QR</td>\n",
       "      <td>AO</td>\n",
       "      <td>QA</td>\n",
       "      <td>GL</td>\n",
       "    </tr>\n",
       "    <tr>\n",
       "      <th>18526</th>\n",
       "      <td>GT</td>\n",
       "      <td>GQ</td>\n",
       "      <td>DP</td>\n",
       "      <td>RO</td>\n",
       "      <td>QR</td>\n",
       "      <td>AO</td>\n",
       "      <td>QA</td>\n",
       "      <td>GL</td>\n",
       "    </tr>\n",
       "    <tr>\n",
       "      <th>18527</th>\n",
       "      <td>GT</td>\n",
       "      <td>GQ</td>\n",
       "      <td>DP</td>\n",
       "      <td>RO</td>\n",
       "      <td>QR</td>\n",
       "      <td>AO</td>\n",
       "      <td>QA</td>\n",
       "      <td>GL</td>\n",
       "    </tr>\n",
       "  </tbody>\n",
       "</table>\n",
       "<p>18528 rows × 8 columns</p>\n",
       "</div>"
      ],
      "text/plain": [
       "       GT  GQ  DP  RO  QR  AO  QA  GL\n",
       "0      GT  GQ  DP  RO  QR  AO  QA  GL\n",
       "1      GT  GQ  DP  RO  QR  AO  QA  GL\n",
       "2      GT  GQ  DP  RO  QR  AO  QA  GL\n",
       "3      GT  GQ  DP  RO  QR  AO  QA  GL\n",
       "4      GT  GQ  DP  RO  QR  AO  QA  GL\n",
       "...    ..  ..  ..  ..  ..  ..  ..  ..\n",
       "18523  GT  GQ  DP  RO  QR  AO  QA  GL\n",
       "18524  GT  GQ  DP  RO  QR  AO  QA  GL\n",
       "18525  GT  GQ  DP  RO  QR  AO  QA  GL\n",
       "18526  GT  GQ  DP  RO  QR  AO  QA  GL\n",
       "18527  GT  GQ  DP  RO  QR  AO  QA  GL\n",
       "\n",
       "[18528 rows x 8 columns]"
      ]
     },
     "execution_count": 4,
     "metadata": {},
     "output_type": "execute_result"
    }
   ],
   "source": [
    "split_format = f1[\"FORMAT\"].str.split(\":\")\n",
    "data = split_format.to_list()\n",
    "names = [\"GT\", \"GQ\",\"DP\",\"RO\",\"QR\", \"AO\", \"QA\", \"GL\"]\n",
    "new_df = pd.DataFrame(data, columns=names)\n",
    "new_df"
   ]
  },
  {
   "cell_type": "code",
   "execution_count": 6,
   "metadata": {},
   "outputs": [
    {
     "data": {
      "text/html": [
       "<div>\n",
       "<style scoped>\n",
       "    .dataframe tbody tr th:only-of-type {\n",
       "        vertical-align: middle;\n",
       "    }\n",
       "\n",
       "    .dataframe tbody tr th {\n",
       "        vertical-align: top;\n",
       "    }\n",
       "\n",
       "    .dataframe thead th {\n",
       "        text-align: right;\n",
       "    }\n",
       "</style>\n",
       "<table border=\"1\" class=\"dataframe\">\n",
       "  <thead>\n",
       "    <tr style=\"text-align: right;\">\n",
       "      <th></th>\n",
       "      <th>GT1</th>\n",
       "      <th>GQ1</th>\n",
       "      <th>DP1</th>\n",
       "      <th>RO1</th>\n",
       "      <th>QR1</th>\n",
       "      <th>AO1</th>\n",
       "      <th>QA1</th>\n",
       "      <th>GL1</th>\n",
       "    </tr>\n",
       "  </thead>\n",
       "  <tbody>\n",
       "    <tr>\n",
       "      <th>0</th>\n",
       "      <td>0</td>\n",
       "      <td>160.002</td>\n",
       "      <td>10</td>\n",
       "      <td>6</td>\n",
       "      <td>203</td>\n",
       "      <td>4</td>\n",
       "      <td>8</td>\n",
       "      <td>0,-17.8598</td>\n",
       "    </tr>\n",
       "    <tr>\n",
       "      <th>1</th>\n",
       "      <td>0</td>\n",
       "      <td>160.002</td>\n",
       "      <td>15</td>\n",
       "      <td>11</td>\n",
       "      <td>293</td>\n",
       "      <td>4</td>\n",
       "      <td>16</td>\n",
       "      <td>0,-25.1447</td>\n",
       "    </tr>\n",
       "    <tr>\n",
       "      <th>2</th>\n",
       "      <td>0</td>\n",
       "      <td>144.641</td>\n",
       "      <td>15</td>\n",
       "      <td>12</td>\n",
       "      <td>342</td>\n",
       "      <td>3</td>\n",
       "      <td>86</td>\n",
       "      <td>0,-19.2956</td>\n",
       "    </tr>\n",
       "    <tr>\n",
       "      <th>3</th>\n",
       "      <td>0</td>\n",
       "      <td>144.802</td>\n",
       "      <td>29</td>\n",
       "      <td>19</td>\n",
       "      <td>577</td>\n",
       "      <td>9</td>\n",
       "      <td>205</td>\n",
       "      <td>0,-19.5276</td>\n",
       "    </tr>\n",
       "    <tr>\n",
       "      <th>4</th>\n",
       "      <td>1</td>\n",
       "      <td>51.7296</td>\n",
       "      <td>28</td>\n",
       "      <td>14</td>\n",
       "      <td>412</td>\n",
       "      <td>14</td>\n",
       "      <td>493</td>\n",
       "      <td>-2.01994,0</td>\n",
       "    </tr>\n",
       "    <tr>\n",
       "      <th>...</th>\n",
       "      <td>...</td>\n",
       "      <td>...</td>\n",
       "      <td>...</td>\n",
       "      <td>...</td>\n",
       "      <td>...</td>\n",
       "      <td>...</td>\n",
       "      <td>...</td>\n",
       "      <td>...</td>\n",
       "    </tr>\n",
       "    <tr>\n",
       "      <th>18523</th>\n",
       "      <td>1</td>\n",
       "      <td>160.002</td>\n",
       "      <td>22</td>\n",
       "      <td>0</td>\n",
       "      <td>0</td>\n",
       "      <td>22</td>\n",
       "      <td>700</td>\n",
       "      <td>-63.2848,0</td>\n",
       "    </tr>\n",
       "    <tr>\n",
       "      <th>18524</th>\n",
       "      <td>1</td>\n",
       "      <td>148.233</td>\n",
       "      <td>20</td>\n",
       "      <td>0</td>\n",
       "      <td>0</td>\n",
       "      <td>20</td>\n",
       "      <td>644</td>\n",
       "      <td>-49.3782,0</td>\n",
       "    </tr>\n",
       "    <tr>\n",
       "      <th>18525</th>\n",
       "      <td>0</td>\n",
       "      <td>21.6371</td>\n",
       "      <td>8</td>\n",
       "      <td>4</td>\n",
       "      <td>137</td>\n",
       "      <td>4</td>\n",
       "      <td>111</td>\n",
       "      <td>0,-2.16072</td>\n",
       "    </tr>\n",
       "    <tr>\n",
       "      <th>18526</th>\n",
       "      <td>0</td>\n",
       "      <td>42.5371</td>\n",
       "      <td>9</td>\n",
       "      <td>5</td>\n",
       "      <td>176</td>\n",
       "      <td>4</td>\n",
       "      <td>115</td>\n",
       "      <td>0,-5.15677</td>\n",
       "    </tr>\n",
       "    <tr>\n",
       "      <th>18527</th>\n",
       "      <td>0</td>\n",
       "      <td>29.4776</td>\n",
       "      <td>10</td>\n",
       "      <td>5</td>\n",
       "      <td>160</td>\n",
       "      <td>5</td>\n",
       "      <td>140</td>\n",
       "      <td>0,-4.34521</td>\n",
       "    </tr>\n",
       "  </tbody>\n",
       "</table>\n",
       "<p>18528 rows × 8 columns</p>\n",
       "</div>"
      ],
      "text/plain": [
       "      GT1      GQ1 DP1 RO1  QR1 AO1  QA1         GL1\n",
       "0       0  160.002  10   6  203   4    8  0,-17.8598\n",
       "1       0  160.002  15  11  293   4   16  0,-25.1447\n",
       "2       0  144.641  15  12  342   3   86  0,-19.2956\n",
       "3       0  144.802  29  19  577   9  205  0,-19.5276\n",
       "4       1  51.7296  28  14  412  14  493  -2.01994,0\n",
       "...    ..      ...  ..  ..  ...  ..  ...         ...\n",
       "18523   1  160.002  22   0    0  22  700  -63.2848,0\n",
       "18524   1  148.233  20   0    0  20  644  -49.3782,0\n",
       "18525   0  21.6371   8   4  137   4  111  0,-2.16072\n",
       "18526   0  42.5371   9   5  176   4  115  0,-5.15677\n",
       "18527   0  29.4776  10   5  160   5  140  0,-4.34521\n",
       "\n",
       "[18528 rows x 8 columns]"
      ]
     },
     "execution_count": 6,
     "metadata": {},
     "output_type": "execute_result"
    }
   ],
   "source": [
    "##Turn the Sample 1 column into dataframe so we can extract the DP values to make the histogram.\n",
    "\n",
    "split_sample1 = f1[\"Sample1\"].str.split(\":\")\n",
    "data1 = split_sample1.to_list()\n",
    "names1 = [\"GT1\", \"GQ1\",\"DP1\",\"RO1\",\"QR1\", \"AO1\", \"QA1\", \"GL1\"]\n",
    "new_df_sample1 = pd.DataFrame(data1, columns=names1)\n",
    "new_df_sample1"
   ]
  },
  {
   "cell_type": "code",
   "execution_count": 7,
   "metadata": {},
   "outputs": [
    {
     "data": {
      "image/png": "[encoded data removed]",
      "text/plain": [
       "<Figure size 432x288 with 1 Axes>"
      ]
     },
     "metadata": {
      "needs_background": "light"
     },
     "output_type": "display_data"
    }
   ],
   "source": [
    "#Make the histogram for the DP values \n",
    "Depth_dist=new_df_sample1.loc[:,\"DP1\"]\n",
    "fig,ax=plt.subplots()\n",
    "ax.hist(Depth_dist, color='blue', alpha=0.5,bins=30)\n",
    "ax.set_ylabel(\"Frequency\")\n",
    "ax.set_title(\"Sample 1 depth distribution\")\n",
    "plt.show()"
   ]
  },
  {
   "cell_type": "code",
   "execution_count": 8,
   "metadata": {},
   "outputs": [
    {
     "data": {
      "image/png": "[encoded data removed]",
      "text/plain": [
       "<Figure size 432x288 with 1 Axes>"
      ]
     },
     "metadata": {
      "needs_background": "light"
     },
     "output_type": "display_data"
    }
   ],
   "source": [
    "Quality_dist=new_df_sample1.loc[:,\"GQ1\"]\n",
    "fig,ax=plt.subplots()\n",
    "ax.hist(Quality_dist, color='blue', alpha=0.5,bins=50)\n",
    "ax.set_ylabel(\"Frequency\")\n",
    "ax.set_title(\"Sample 1 quality distribution\")\n",
    "plt.show()"
   ]
  },
  {
   "cell_type": "code",
   "execution_count": 9,
   "metadata": {
    "scrolled": false
   },
   "outputs": [
    {
     "data": {
      "text/html": [
       "<div>\n",
       "<style scoped>\n",
       "    .dataframe tbody tr th:only-of-type {\n",
       "        vertical-align: middle;\n",
       "    }\n",
       "\n",
       "    .dataframe tbody tr th {\n",
       "        vertical-align: top;\n",
       "    }\n",
       "\n",
       "    .dataframe thead th {\n",
       "        text-align: right;\n",
       "    }\n",
       "</style>\n",
       "<table border=\"1\" class=\"dataframe\">\n",
       "  <thead>\n",
       "    <tr style=\"text-align: right;\">\n",
       "      <th></th>\n",
       "      <th>AB</th>\n",
       "      <th>ABP</th>\n",
       "      <th>AC</th>\n",
       "      <th>AF</th>\n",
       "      <th>5</th>\n",
       "      <th>6</th>\n",
       "      <th>7</th>\n",
       "      <th>8</th>\n",
       "      <th>9</th>\n",
       "      <th>10</th>\n",
       "      <th>...</th>\n",
       "      <th>34</th>\n",
       "      <th>35</th>\n",
       "      <th>36</th>\n",
       "      <th>37</th>\n",
       "      <th>38</th>\n",
       "      <th>39</th>\n",
       "      <th>40</th>\n",
       "      <th>41</th>\n",
       "      <th>snpeff</th>\n",
       "      <th>43</th>\n",
       "    </tr>\n",
       "  </thead>\n",
       "  <tbody>\n",
       "    <tr>\n",
       "      <th>0</th>\n",
       "      <td>AB=0</td>\n",
       "      <td>ABP=0</td>\n",
       "      <td>AC=0</td>\n",
       "      <td>AF=0</td>\n",
       "      <td>AN=1</td>\n",
       "      <td>AO=4</td>\n",
       "      <td>CIGAR=1X</td>\n",
       "      <td>DP=10</td>\n",
       "      <td>DPB=10</td>\n",
       "      <td>DPRA=0</td>\n",
       "      <td>...</td>\n",
       "      <td>RUN=1</td>\n",
       "      <td>SAF=4</td>\n",
       "      <td>SAP=11.6962</td>\n",
       "      <td>SAR=0</td>\n",
       "      <td>SRF=6</td>\n",
       "      <td>SRP=16.0391</td>\n",
       "      <td>SRR=0</td>\n",
       "      <td>TYPE=snp</td>\n",
       "      <td>ANN=C|upstream_gene_variant|MODIFIER|YAL069W|Y...</td>\n",
       "      <td>None</td>\n",
       "    </tr>\n",
       "    <tr>\n",
       "      <th>1</th>\n",
       "      <td>AB=0</td>\n",
       "      <td>ABP=0</td>\n",
       "      <td>AC=0</td>\n",
       "      <td>AF=0</td>\n",
       "      <td>AN=1</td>\n",
       "      <td>AO=4</td>\n",
       "      <td>CIGAR=1X</td>\n",
       "      <td>DP=15</td>\n",
       "      <td>DPB=15</td>\n",
       "      <td>DPRA=0</td>\n",
       "      <td>...</td>\n",
       "      <td>RUN=1</td>\n",
       "      <td>SAF=4</td>\n",
       "      <td>SAP=11.6962</td>\n",
       "      <td>SAR=0</td>\n",
       "      <td>SRF=11</td>\n",
       "      <td>SRP=26.8965</td>\n",
       "      <td>SRR=0</td>\n",
       "      <td>TYPE=snp</td>\n",
       "      <td>ANN=C|missense_variant|MODERATE|YAL069W|YAL069...</td>\n",
       "      <td>None</td>\n",
       "    </tr>\n",
       "    <tr>\n",
       "      <th>2</th>\n",
       "      <td>AB=0</td>\n",
       "      <td>ABP=0</td>\n",
       "      <td>AC=0</td>\n",
       "      <td>AF=0</td>\n",
       "      <td>AN=1</td>\n",
       "      <td>AO=3</td>\n",
       "      <td>CIGAR=1X</td>\n",
       "      <td>DP=15</td>\n",
       "      <td>DPB=15</td>\n",
       "      <td>DPRA=0</td>\n",
       "      <td>...</td>\n",
       "      <td>RUN=1</td>\n",
       "      <td>SAF=3</td>\n",
       "      <td>SAP=9.52472</td>\n",
       "      <td>SAR=0</td>\n",
       "      <td>SRF=12</td>\n",
       "      <td>SRP=29.068</td>\n",
       "      <td>SRR=0</td>\n",
       "      <td>TYPE=snp</td>\n",
       "      <td>ANN=T|upstream_gene_variant|MODIFIER|YAL067W-A...</td>\n",
       "      <td>None</td>\n",
       "    </tr>\n",
       "    <tr>\n",
       "      <th>3</th>\n",
       "      <td>AB=0</td>\n",
       "      <td>ABP=0</td>\n",
       "      <td>AC=0</td>\n",
       "      <td>AF=0</td>\n",
       "      <td>AN=1</td>\n",
       "      <td>AO=9</td>\n",
       "      <td>CIGAR=1X</td>\n",
       "      <td>DP=29</td>\n",
       "      <td>DPB=29</td>\n",
       "      <td>DPRA=0</td>\n",
       "      <td>...</td>\n",
       "      <td>RUN=1</td>\n",
       "      <td>SAF=9</td>\n",
       "      <td>SAP=22.5536</td>\n",
       "      <td>SAR=0</td>\n",
       "      <td>SRF=19</td>\n",
       "      <td>SRP=44.2683</td>\n",
       "      <td>SRR=0</td>\n",
       "      <td>TYPE=snp</td>\n",
       "      <td>ANN=A|upstream_gene_variant|MODIFIER|YAL067W-A...</td>\n",
       "      <td>None</td>\n",
       "    </tr>\n",
       "    <tr>\n",
       "      <th>4</th>\n",
       "      <td>AB=0</td>\n",
       "      <td>ABP=0</td>\n",
       "      <td>AC=1</td>\n",
       "      <td>AF=1</td>\n",
       "      <td>AN=1</td>\n",
       "      <td>AO=14</td>\n",
       "      <td>CIGAR=1X</td>\n",
       "      <td>DP=28</td>\n",
       "      <td>DPB=28</td>\n",
       "      <td>DPRA=0</td>\n",
       "      <td>...</td>\n",
       "      <td>RUN=1</td>\n",
       "      <td>SAF=14</td>\n",
       "      <td>SAP=33.4109</td>\n",
       "      <td>SAR=0</td>\n",
       "      <td>SRF=14</td>\n",
       "      <td>SRP=33.4109</td>\n",
       "      <td>SRR=0</td>\n",
       "      <td>TYPE=snp</td>\n",
       "      <td>ANN=A|upstream_gene_variant|MODIFIER|YAL067W-A...</td>\n",
       "      <td>None</td>\n",
       "    </tr>\n",
       "    <tr>\n",
       "      <th>...</th>\n",
       "      <td>...</td>\n",
       "      <td>...</td>\n",
       "      <td>...</td>\n",
       "      <td>...</td>\n",
       "      <td>...</td>\n",
       "      <td>...</td>\n",
       "      <td>...</td>\n",
       "      <td>...</td>\n",
       "      <td>...</td>\n",
       "      <td>...</td>\n",
       "      <td>...</td>\n",
       "      <td>...</td>\n",
       "      <td>...</td>\n",
       "      <td>...</td>\n",
       "      <td>...</td>\n",
       "      <td>...</td>\n",
       "      <td>...</td>\n",
       "      <td>...</td>\n",
       "      <td>...</td>\n",
       "      <td>...</td>\n",
       "      <td>...</td>\n",
       "    </tr>\n",
       "    <tr>\n",
       "      <th>18523</th>\n",
       "      <td>AB=0</td>\n",
       "      <td>ABP=0</td>\n",
       "      <td>AC=1</td>\n",
       "      <td>AF=1</td>\n",
       "      <td>AN=1</td>\n",
       "      <td>AO=22</td>\n",
       "      <td>CIGAR=1X</td>\n",
       "      <td>DP=22</td>\n",
       "      <td>DPB=22</td>\n",
       "      <td>DPRA=0</td>\n",
       "      <td>...</td>\n",
       "      <td>RUN=1</td>\n",
       "      <td>SAF=22</td>\n",
       "      <td>SAP=50.7827</td>\n",
       "      <td>SAR=0</td>\n",
       "      <td>SRF=0</td>\n",
       "      <td>SRP=0</td>\n",
       "      <td>SRR=0</td>\n",
       "      <td>TYPE=snp</td>\n",
       "      <td>ANN=G|upstream_gene_variant|MODIFIER|ARR1|YPR1...</td>\n",
       "      <td>None</td>\n",
       "    </tr>\n",
       "    <tr>\n",
       "      <th>18524</th>\n",
       "      <td>AB=0</td>\n",
       "      <td>ABP=0</td>\n",
       "      <td>AC=1</td>\n",
       "      <td>AF=1</td>\n",
       "      <td>AN=1</td>\n",
       "      <td>AO=20</td>\n",
       "      <td>CIGAR=1X</td>\n",
       "      <td>DP=20</td>\n",
       "      <td>DPB=20</td>\n",
       "      <td>DPRA=0</td>\n",
       "      <td>...</td>\n",
       "      <td>RUN=1</td>\n",
       "      <td>SAF=20</td>\n",
       "      <td>SAP=46.4397</td>\n",
       "      <td>SAR=0</td>\n",
       "      <td>SRF=0</td>\n",
       "      <td>SRP=0</td>\n",
       "      <td>SRR=0</td>\n",
       "      <td>TYPE=snp</td>\n",
       "      <td>ANN=G|upstream_gene_variant|MODIFIER|ARR1|YPR1...</td>\n",
       "      <td>None</td>\n",
       "    </tr>\n",
       "    <tr>\n",
       "      <th>18525</th>\n",
       "      <td>AB=0</td>\n",
       "      <td>ABP=0</td>\n",
       "      <td>AC=0</td>\n",
       "      <td>AF=0</td>\n",
       "      <td>AN=1</td>\n",
       "      <td>AO=4</td>\n",
       "      <td>CIGAR=1X</td>\n",
       "      <td>DP=8</td>\n",
       "      <td>DPB=8</td>\n",
       "      <td>DPRA=0</td>\n",
       "      <td>...</td>\n",
       "      <td>RUN=1</td>\n",
       "      <td>SAF=4</td>\n",
       "      <td>SAP=11.6962</td>\n",
       "      <td>SAR=0</td>\n",
       "      <td>SRF=4</td>\n",
       "      <td>SRP=11.6962</td>\n",
       "      <td>SRR=0</td>\n",
       "      <td>TYPE=snp</td>\n",
       "      <td>ANN=G|upstream_gene_variant|MODIFIER|ARR1|YPR1...</td>\n",
       "      <td>None</td>\n",
       "    </tr>\n",
       "    <tr>\n",
       "      <th>18526</th>\n",
       "      <td>AB=0</td>\n",
       "      <td>ABP=0</td>\n",
       "      <td>AC=0</td>\n",
       "      <td>AF=0</td>\n",
       "      <td>AN=1</td>\n",
       "      <td>AO=4</td>\n",
       "      <td>CIGAR=1X</td>\n",
       "      <td>DP=9</td>\n",
       "      <td>DPB=9</td>\n",
       "      <td>DPRA=0</td>\n",
       "      <td>...</td>\n",
       "      <td>RUN=1</td>\n",
       "      <td>SAF=4</td>\n",
       "      <td>SAP=11.6962</td>\n",
       "      <td>SAR=0</td>\n",
       "      <td>SRF=5</td>\n",
       "      <td>SRP=13.8677</td>\n",
       "      <td>SRR=0</td>\n",
       "      <td>TYPE=snp</td>\n",
       "      <td>ANN=G|upstream_gene_variant|MODIFIER|ARR1|YPR1...</td>\n",
       "      <td>None</td>\n",
       "    </tr>\n",
       "    <tr>\n",
       "      <th>18527</th>\n",
       "      <td>AB=0</td>\n",
       "      <td>ABP=0</td>\n",
       "      <td>AC=0</td>\n",
       "      <td>AF=0</td>\n",
       "      <td>AN=1</td>\n",
       "      <td>AO=5</td>\n",
       "      <td>CIGAR=1X</td>\n",
       "      <td>DP=10</td>\n",
       "      <td>DPB=10</td>\n",
       "      <td>DPRA=0</td>\n",
       "      <td>...</td>\n",
       "      <td>RUN=1</td>\n",
       "      <td>SAF=5</td>\n",
       "      <td>SAP=13.8677</td>\n",
       "      <td>SAR=0</td>\n",
       "      <td>SRF=5</td>\n",
       "      <td>SRP=13.8677</td>\n",
       "      <td>SRR=0</td>\n",
       "      <td>TYPE=snp</td>\n",
       "      <td>ANN=A|upstream_gene_variant|MODIFIER|ARR1|YPR1...</td>\n",
       "      <td>None</td>\n",
       "    </tr>\n",
       "  </tbody>\n",
       "</table>\n",
       "<p>18528 rows × 43 columns</p>\n",
       "</div>"
      ],
      "text/plain": [
       "         AB    ABP    AC    AF     5      6         7      8       9      10  \\\n",
       "0      AB=0  ABP=0  AC=0  AF=0  AN=1   AO=4  CIGAR=1X  DP=10  DPB=10  DPRA=0   \n",
       "1      AB=0  ABP=0  AC=0  AF=0  AN=1   AO=4  CIGAR=1X  DP=15  DPB=15  DPRA=0   \n",
       "2      AB=0  ABP=0  AC=0  AF=0  AN=1   AO=3  CIGAR=1X  DP=15  DPB=15  DPRA=0   \n",
       "3      AB=0  ABP=0  AC=0  AF=0  AN=1   AO=9  CIGAR=1X  DP=29  DPB=29  DPRA=0   \n",
       "4      AB=0  ABP=0  AC=1  AF=1  AN=1  AO=14  CIGAR=1X  DP=28  DPB=28  DPRA=0   \n",
       "...     ...    ...   ...   ...   ...    ...       ...    ...     ...     ...   \n",
       "18523  AB=0  ABP=0  AC=1  AF=1  AN=1  AO=22  CIGAR=1X  DP=22  DPB=22  DPRA=0   \n",
       "18524  AB=0  ABP=0  AC=1  AF=1  AN=1  AO=20  CIGAR=1X  DP=20  DPB=20  DPRA=0   \n",
       "18525  AB=0  ABP=0  AC=0  AF=0  AN=1   AO=4  CIGAR=1X   DP=8   DPB=8  DPRA=0   \n",
       "18526  AB=0  ABP=0  AC=0  AF=0  AN=1   AO=4  CIGAR=1X   DP=9   DPB=9  DPRA=0   \n",
       "18527  AB=0  ABP=0  AC=0  AF=0  AN=1   AO=5  CIGAR=1X  DP=10  DPB=10  DPRA=0   \n",
       "\n",
       "       ...     34      35           36     37      38           39     40  \\\n",
       "0      ...  RUN=1   SAF=4  SAP=11.6962  SAR=0   SRF=6  SRP=16.0391  SRR=0   \n",
       "1      ...  RUN=1   SAF=4  SAP=11.6962  SAR=0  SRF=11  SRP=26.8965  SRR=0   \n",
       "2      ...  RUN=1   SAF=3  SAP=9.52472  SAR=0  SRF=12   SRP=29.068  SRR=0   \n",
       "3      ...  RUN=1   SAF=9  SAP=22.5536  SAR=0  SRF=19  SRP=44.2683  SRR=0   \n",
       "4      ...  RUN=1  SAF=14  SAP=33.4109  SAR=0  SRF=14  SRP=33.4109  SRR=0   \n",
       "...    ...    ...     ...          ...    ...     ...          ...    ...   \n",
       "18523  ...  RUN=1  SAF=22  SAP=50.7827  SAR=0   SRF=0        SRP=0  SRR=0   \n",
       "18524  ...  RUN=1  SAF=20  SAP=46.4397  SAR=0   SRF=0        SRP=0  SRR=0   \n",
       "18525  ...  RUN=1   SAF=4  SAP=11.6962  SAR=0   SRF=4  SRP=11.6962  SRR=0   \n",
       "18526  ...  RUN=1   SAF=4  SAP=11.6962  SAR=0   SRF=5  SRP=13.8677  SRR=0   \n",
       "18527  ...  RUN=1   SAF=5  SAP=13.8677  SAR=0   SRF=5  SRP=13.8677  SRR=0   \n",
       "\n",
       "             41                                             snpeff    43  \n",
       "0      TYPE=snp  ANN=C|upstream_gene_variant|MODIFIER|YAL069W|Y...  None  \n",
       "1      TYPE=snp  ANN=C|missense_variant|MODERATE|YAL069W|YAL069...  None  \n",
       "2      TYPE=snp  ANN=T|upstream_gene_variant|MODIFIER|YAL067W-A...  None  \n",
       "3      TYPE=snp  ANN=A|upstream_gene_variant|MODIFIER|YAL067W-A...  None  \n",
       "4      TYPE=snp  ANN=A|upstream_gene_variant|MODIFIER|YAL067W-A...  None  \n",
       "...         ...                                                ...   ...  \n",
       "18523  TYPE=snp  ANN=G|upstream_gene_variant|MODIFIER|ARR1|YPR1...  None  \n",
       "18524  TYPE=snp  ANN=G|upstream_gene_variant|MODIFIER|ARR1|YPR1...  None  \n",
       "18525  TYPE=snp  ANN=G|upstream_gene_variant|MODIFIER|ARR1|YPR1...  None  \n",
       "18526  TYPE=snp  ANN=G|upstream_gene_variant|MODIFIER|ARR1|YPR1...  None  \n",
       "18527  TYPE=snp  ANN=A|upstream_gene_variant|MODIFIER|ARR1|YPR1...  None  \n",
       "\n",
       "[18528 rows x 43 columns]"
      ]
     },
     "execution_count": 9,
     "metadata": {},
     "output_type": "execute_result"
    }
   ],
   "source": [
    "##Turn the info column form the orginal dataframe into its own dataframe. \n",
    "#Since we only will be using the AF (Allele frequnecy) and the data from snpeff I only gave them name everything else is number. \n",
    "#A total of 43 columns.\n",
    "split_info = f1[\"INFO\"].str.split(\";\")\n",
    "info_data = split_info.to_list()\n",
    "info_names = [\"AB\", \"ABP\",\"AC\",\"AF\",\"5\", \"6\", \"7\", \"8\", \"9\",\"10\",\"11\",\"12\",\"13\",\"14\",\"15\",\"16\",\"17\",\"18\",\"19\",\"20\",\"21\",\"22\",\n",
    "\"23\",\"24\",\"25\",\"26\",\"27\",\"28\",\"29\",\"30\",\"31\",\"32\",\"33\",\"34\",\"35\",\"36\",\"37\",\"38\",\"39\",\"40\",\"41\",\"snpeff\",\"43\"]\n",
    "new_df_sample1_info = pd.DataFrame(info_data, columns=info_names)\n",
    "new_df_sample1_info"
   ]
  },
  {
   "cell_type": "code",
   "execution_count": 10,
   "metadata": {},
   "outputs": [
    {
     "data": {
      "text/html": [
       "<div>\n",
       "<style scoped>\n",
       "    .dataframe tbody tr th:only-of-type {\n",
       "        vertical-align: middle;\n",
       "    }\n",
       "\n",
       "    .dataframe tbody tr th {\n",
       "        vertical-align: top;\n",
       "    }\n",
       "\n",
       "    .dataframe thead th {\n",
       "        text-align: right;\n",
       "    }\n",
       "</style>\n",
       "<table border=\"1\" class=\"dataframe\">\n",
       "  <thead>\n",
       "    <tr style=\"text-align: right;\">\n",
       "      <th></th>\n",
       "      <th>AF</th>\n",
       "      <th>AF Value</th>\n",
       "    </tr>\n",
       "  </thead>\n",
       "  <tbody>\n",
       "    <tr>\n",
       "      <th>0</th>\n",
       "      <td>AF</td>\n",
       "      <td>0</td>\n",
       "    </tr>\n",
       "    <tr>\n",
       "      <th>1</th>\n",
       "      <td>AF</td>\n",
       "      <td>0</td>\n",
       "    </tr>\n",
       "    <tr>\n",
       "      <th>2</th>\n",
       "      <td>AF</td>\n",
       "      <td>0</td>\n",
       "    </tr>\n",
       "    <tr>\n",
       "      <th>3</th>\n",
       "      <td>AF</td>\n",
       "      <td>0</td>\n",
       "    </tr>\n",
       "    <tr>\n",
       "      <th>4</th>\n",
       "      <td>AF</td>\n",
       "      <td>1</td>\n",
       "    </tr>\n",
       "    <tr>\n",
       "      <th>...</th>\n",
       "      <td>...</td>\n",
       "      <td>...</td>\n",
       "    </tr>\n",
       "    <tr>\n",
       "      <th>18523</th>\n",
       "      <td>AF</td>\n",
       "      <td>1</td>\n",
       "    </tr>\n",
       "    <tr>\n",
       "      <th>18524</th>\n",
       "      <td>AF</td>\n",
       "      <td>1</td>\n",
       "    </tr>\n",
       "    <tr>\n",
       "      <th>18525</th>\n",
       "      <td>AF</td>\n",
       "      <td>0</td>\n",
       "    </tr>\n",
       "    <tr>\n",
       "      <th>18526</th>\n",
       "      <td>AF</td>\n",
       "      <td>0</td>\n",
       "    </tr>\n",
       "    <tr>\n",
       "      <th>18527</th>\n",
       "      <td>AF</td>\n",
       "      <td>0</td>\n",
       "    </tr>\n",
       "  </tbody>\n",
       "</table>\n",
       "<p>18528 rows × 2 columns</p>\n",
       "</div>"
      ],
      "text/plain": [
       "       AF AF Value\n",
       "0      AF        0\n",
       "1      AF        0\n",
       "2      AF        0\n",
       "3      AF        0\n",
       "4      AF        1\n",
       "...    ..      ...\n",
       "18523  AF        1\n",
       "18524  AF        1\n",
       "18525  AF        0\n",
       "18526  AF        0\n",
       "18527  AF        0\n",
       "\n",
       "[18528 rows x 2 columns]"
      ]
     },
     "execution_count": 10,
     "metadata": {},
     "output_type": "execute_result"
    }
   ],
   "source": [
    "#From the previous dataframe take the allele freq value and split it into two columns. \n",
    "AF_df = new_df_sample1_info[\"AF\"].str.split(\"=\")\n",
    "AF = AF_df.to_list()\n",
    "AF_name=[\"AF\", \"AF Value\"]\n",
    "AF_df2=pd.DataFrame(AF,columns=AF_name)\n",
    "AF_df2"
   ]
  },
  {
   "cell_type": "code",
   "execution_count": 11,
   "metadata": {},
   "outputs": [
    {
     "data": {
      "image/png": "[encoded data removed]",
      "text/plain": [
       "<Figure size 432x288 with 1 Axes>"
      ]
     },
     "metadata": {
      "needs_background": "light"
     },
     "output_type": "display_data"
    }
   ],
   "source": [
    "#Plot the allele freq vlaues \n",
    "allele_freq=AF_df2.loc[:,\"AF Value\"]\n",
    "fig,ax=plt.subplots()\n",
    "ax.hist(allele_freq, color='blue', alpha=0.5,bins=10)\n",
    "ax.set_ylabel(\"Frequency\")\n",
    "ax.set_title(\"Sample 1 allele freq\")\n",
    "plt.show()"
   ]
  },
  {
   "cell_type": "code",
   "execution_count": 13,
   "metadata": {},
   "outputs": [],
   "source": [
    "##From the dataframe I created for the INFO column (new_df_sample1_info) I wanted to pull out \n",
    "#the information that was added by SNPeff which is column 42 which I had labed \"snpeff\". \n",
    "#I then proceeded to create a dataframe out of that column.\n",
    "#SN_df = new_df_sample2[\"snpeff\"].str.split(\"|\")\n",
    "#sn = SN_df.to_list()\n",
    "#name5=[\"AF\", \"AF Value\"]\n",
    "#SN1=pd.DataFrame(sn)\n",
    "#SN1"
   ]
  },
  {
   "cell_type": "code",
   "execution_count": null,
   "metadata": {},
   "outputs": [],
   "source": [
    "#Since there are 285 couluman i chose to only look at the first 10. This way I can name them and select particular ones.\n",
    "SN1_sample1= SN1.iloc[: , :10]\n",
    "SN2_sample1= SN1.iloc[: , 1:2]\n",
    "SN2_sample1"
   ]
  },
  {
   "cell_type": "code",
   "execution_count": null,
   "metadata": {},
   "outputs": [],
   "source": []
  },
  {
   "cell_type": "markdown",
   "metadata": {},
   "source": [
    "## Follow the above steps for all the vcf created and the plot all the graph togther at the end. "
   ]
  },
  {
   "cell_type": "code",
   "execution_count": 14,
   "metadata": {},
   "outputs": [
    {
     "data": {
      "text/html": [
       "<div>\n",
       "<style scoped>\n",
       "    .dataframe tbody tr th:only-of-type {\n",
       "        vertical-align: middle;\n",
       "    }\n",
       "\n",
       "    .dataframe tbody tr th {\n",
       "        vertical-align: top;\n",
       "    }\n",
       "\n",
       "    .dataframe thead th {\n",
       "        text-align: right;\n",
       "    }\n",
       "</style>\n",
       "<table border=\"1\" class=\"dataframe\">\n",
       "  <thead>\n",
       "    <tr style=\"text-align: right;\">\n",
       "      <th></th>\n",
       "      <th>CHROM</th>\n",
       "      <th>POS</th>\n",
       "      <th>ID</th>\n",
       "      <th>REF</th>\n",
       "      <th>ALT</th>\n",
       "      <th>QUAL</th>\n",
       "      <th>FILTER</th>\n",
       "      <th>INFO</th>\n",
       "      <th>FORMAT</th>\n",
       "      <th>Sample2</th>\n",
       "    </tr>\n",
       "  </thead>\n",
       "  <tbody>\n",
       "    <tr>\n",
       "      <th>0</th>\n",
       "      <td>chrI</td>\n",
       "      <td>968</td>\n",
       "      <td>.</td>\n",
       "      <td>C</td>\n",
       "      <td>T</td>\n",
       "      <td>42.561</td>\n",
       "      <td>.</td>\n",
       "      <td>AB=0;ABP=0;AC=1;AF=1;AN=1;AO=2;CIGAR=1X1M1X;DP...</td>\n",
       "      <td>GT:GQ:DP:RO:QR:AO:QA:GL</td>\n",
       "      <td>1:42.561:2:0:0:2:64:-6.06226,0</td>\n",
       "    </tr>\n",
       "    <tr>\n",
       "      <th>1</th>\n",
       "      <td>chrI</td>\n",
       "      <td>970</td>\n",
       "      <td>.</td>\n",
       "      <td>G</td>\n",
       "      <td>A</td>\n",
       "      <td>42.561</td>\n",
       "      <td>.</td>\n",
       "      <td>AB=0;ABP=0;AC=1;AF=1;AN=1;AO=2;CIGAR=1X1M1X;DP...</td>\n",
       "      <td>GT:GQ:DP:RO:QR:AO:QA:GL</td>\n",
       "      <td>1:42.561:2:0:0:2:64:-6.06226,0</td>\n",
       "    </tr>\n",
       "    <tr>\n",
       "      <th>2</th>\n",
       "      <td>chrI</td>\n",
       "      <td>980</td>\n",
       "      <td>.</td>\n",
       "      <td>A</td>\n",
       "      <td>G</td>\n",
       "      <td>48.1448</td>\n",
       "      <td>.</td>\n",
       "      <td>AB=0;ABP=0;AC=1;AF=1;AN=1;AO=2;CIGAR=2X;DP=2;D...</td>\n",
       "      <td>GT:GQ:DP:RO:QR:AO:QA:GL</td>\n",
       "      <td>1:48.1448:2:0:0:2:70:-6.62066,0</td>\n",
       "    </tr>\n",
       "    <tr>\n",
       "      <th>3</th>\n",
       "      <td>chrI</td>\n",
       "      <td>981</td>\n",
       "      <td>.</td>\n",
       "      <td>A</td>\n",
       "      <td>C</td>\n",
       "      <td>48.1448</td>\n",
       "      <td>.</td>\n",
       "      <td>AB=0;ABP=0;AC=1;AF=1;AN=1;AO=2;CIGAR=2X;DP=2;D...</td>\n",
       "      <td>GT:GQ:DP:RO:QR:AO:QA:GL</td>\n",
       "      <td>1:48.1448:2:0:0:2:70:-6.62066,0</td>\n",
       "    </tr>\n",
       "    <tr>\n",
       "      <th>4</th>\n",
       "      <td>chrI</td>\n",
       "      <td>1074</td>\n",
       "      <td>.</td>\n",
       "      <td>C</td>\n",
       "      <td>A</td>\n",
       "      <td>0.678563</td>\n",
       "      <td>.</td>\n",
       "      <td>AB=0;ABP=0;AC=1;AF=1;AN=1;AO=6;CIGAR=1X;DP=6;D...</td>\n",
       "      <td>GT:GQ:DP:RO:QR:AO:QA:GL</td>\n",
       "      <td>1:0.678563:6:0:0:6:129:-4.64672,0</td>\n",
       "    </tr>\n",
       "    <tr>\n",
       "      <th>...</th>\n",
       "      <td>...</td>\n",
       "      <td>...</td>\n",
       "      <td>...</td>\n",
       "      <td>...</td>\n",
       "      <td>...</td>\n",
       "      <td>...</td>\n",
       "      <td>...</td>\n",
       "      <td>...</td>\n",
       "      <td>...</td>\n",
       "      <td>...</td>\n",
       "    </tr>\n",
       "    <tr>\n",
       "      <th>23398</th>\n",
       "      <td>chrXVI</td>\n",
       "      <td>942589</td>\n",
       "      <td>.</td>\n",
       "      <td>G</td>\n",
       "      <td>A</td>\n",
       "      <td>6.11115E-9</td>\n",
       "      <td>.</td>\n",
       "      <td>AB=0;ABP=0;AC=0;AF=0;AN=1;AO=10;CIGAR=1X;DP=20...</td>\n",
       "      <td>GT:GQ:DP:RO:QR:AO:QA:GL</td>\n",
       "      <td>0:88.5166:20:10:312:10:293:0,-6.6933</td>\n",
       "    </tr>\n",
       "    <tr>\n",
       "      <th>23399</th>\n",
       "      <td>chrXVI</td>\n",
       "      <td>942644</td>\n",
       "      <td>.</td>\n",
       "      <td>C</td>\n",
       "      <td>T</td>\n",
       "      <td>18.47</td>\n",
       "      <td>.</td>\n",
       "      <td>AB=0;ABP=0;AC=1;AF=1;AN=1;AO=11;CIGAR=1X;DP=20...</td>\n",
       "      <td>GT:GQ:DP:RO:QR:AO:QA:GL</td>\n",
       "      <td>1:18.47:20:9:242:11:312:-3.41274,0</td>\n",
       "    </tr>\n",
       "    <tr>\n",
       "      <th>23400</th>\n",
       "      <td>chrXVI</td>\n",
       "      <td>942720</td>\n",
       "      <td>.</td>\n",
       "      <td>T</td>\n",
       "      <td>C</td>\n",
       "      <td>14.508</td>\n",
       "      <td>.</td>\n",
       "      <td>AB=0;ABP=0;AC=0;AF=0;AN=1;AO=2;CIGAR=1X;DP=8;D...</td>\n",
       "      <td>GT:GQ:DP:RO:QR:AO:QA:GL</td>\n",
       "      <td>0:0.156601:8:6:154:2:70:0,-2.17722</td>\n",
       "    </tr>\n",
       "    <tr>\n",
       "      <th>23401</th>\n",
       "      <td>chrXVI</td>\n",
       "      <td>942826</td>\n",
       "      <td>.</td>\n",
       "      <td>C</td>\n",
       "      <td>G</td>\n",
       "      <td>90.3012</td>\n",
       "      <td>.</td>\n",
       "      <td>AB=0;ABP=0;AC=1;AF=1;AN=1;AO=7;CIGAR=1X2M;DP=1...</td>\n",
       "      <td>GT:GQ:DP:RO:QR:AO:QA:GL</td>\n",
       "      <td>1:90.3012:14:3:69:7:187:-10.5086,0</td>\n",
       "    </tr>\n",
       "    <tr>\n",
       "      <th>23402</th>\n",
       "      <td>chrXVI</td>\n",
       "      <td>946229</td>\n",
       "      <td>.</td>\n",
       "      <td>A</td>\n",
       "      <td>C</td>\n",
       "      <td>8.46719</td>\n",
       "      <td>.</td>\n",
       "      <td>AB=0;ABP=0;AC=0;AF=0;AN=1;AO=2;CIGAR=1X;DP=7;D...</td>\n",
       "      <td>GT:GQ:DP:RO:QR:AO:QA:GL</td>\n",
       "      <td>0:0.666773:7:5:46:2:4:0,-1.92923</td>\n",
       "    </tr>\n",
       "  </tbody>\n",
       "</table>\n",
       "<p>23403 rows × 10 columns</p>\n",
       "</div>"
      ],
      "text/plain": [
       "        CHROM     POS ID REF ALT        QUAL FILTER  \\\n",
       "0        chrI     968  .   C   T      42.561      .   \n",
       "1        chrI     970  .   G   A      42.561      .   \n",
       "2        chrI     980  .   A   G     48.1448      .   \n",
       "3        chrI     981  .   A   C     48.1448      .   \n",
       "4        chrI    1074  .   C   A    0.678563      .   \n",
       "...       ...     ... ..  ..  ..         ...    ...   \n",
       "23398  chrXVI  942589  .   G   A  6.11115E-9      .   \n",
       "23399  chrXVI  942644  .   C   T       18.47      .   \n",
       "23400  chrXVI  942720  .   T   C      14.508      .   \n",
       "23401  chrXVI  942826  .   C   G     90.3012      .   \n",
       "23402  chrXVI  946229  .   A   C     8.46719      .   \n",
       "\n",
       "                                                    INFO  \\\n",
       "0      AB=0;ABP=0;AC=1;AF=1;AN=1;AO=2;CIGAR=1X1M1X;DP...   \n",
       "1      AB=0;ABP=0;AC=1;AF=1;AN=1;AO=2;CIGAR=1X1M1X;DP...   \n",
       "2      AB=0;ABP=0;AC=1;AF=1;AN=1;AO=2;CIGAR=2X;DP=2;D...   \n",
       "3      AB=0;ABP=0;AC=1;AF=1;AN=1;AO=2;CIGAR=2X;DP=2;D...   \n",
       "4      AB=0;ABP=0;AC=1;AF=1;AN=1;AO=6;CIGAR=1X;DP=6;D...   \n",
       "...                                                  ...   \n",
       "23398  AB=0;ABP=0;AC=0;AF=0;AN=1;AO=10;CIGAR=1X;DP=20...   \n",
       "23399  AB=0;ABP=0;AC=1;AF=1;AN=1;AO=11;CIGAR=1X;DP=20...   \n",
       "23400  AB=0;ABP=0;AC=0;AF=0;AN=1;AO=2;CIGAR=1X;DP=8;D...   \n",
       "23401  AB=0;ABP=0;AC=1;AF=1;AN=1;AO=7;CIGAR=1X2M;DP=1...   \n",
       "23402  AB=0;ABP=0;AC=0;AF=0;AN=1;AO=2;CIGAR=1X;DP=7;D...   \n",
       "\n",
       "                        FORMAT                               Sample2  \n",
       "0      GT:GQ:DP:RO:QR:AO:QA:GL        1:42.561:2:0:0:2:64:-6.06226,0  \n",
       "1      GT:GQ:DP:RO:QR:AO:QA:GL        1:42.561:2:0:0:2:64:-6.06226,0  \n",
       "2      GT:GQ:DP:RO:QR:AO:QA:GL       1:48.1448:2:0:0:2:70:-6.62066,0  \n",
       "3      GT:GQ:DP:RO:QR:AO:QA:GL       1:48.1448:2:0:0:2:70:-6.62066,0  \n",
       "4      GT:GQ:DP:RO:QR:AO:QA:GL     1:0.678563:6:0:0:6:129:-4.64672,0  \n",
       "...                        ...                                   ...  \n",
       "23398  GT:GQ:DP:RO:QR:AO:QA:GL  0:88.5166:20:10:312:10:293:0,-6.6933  \n",
       "23399  GT:GQ:DP:RO:QR:AO:QA:GL    1:18.47:20:9:242:11:312:-3.41274,0  \n",
       "23400  GT:GQ:DP:RO:QR:AO:QA:GL    0:0.156601:8:6:154:2:70:0,-2.17722  \n",
       "23401  GT:GQ:DP:RO:QR:AO:QA:GL    1:90.3012:14:3:69:7:187:-10.5086,0  \n",
       "23402  GT:GQ:DP:RO:QR:AO:QA:GL      0:0.666773:7:5:46:2:4:0,-1.92923  \n",
       "\n",
       "[23403 rows x 10 columns]"
      ]
     },
     "execution_count": 14,
     "metadata": {},
     "output_type": "execute_result"
    }
   ],
   "source": [
    "f2=read_vcf(\"/Users/cmdb/week2/A01_11_filter_annot.vcf\")\n",
    "f2"
   ]
  },
  {
   "cell_type": "code",
   "execution_count": 15,
   "metadata": {},
   "outputs": [
    {
     "data": {
      "text/html": [
       "<div>\n",
       "<style scoped>\n",
       "    .dataframe tbody tr th:only-of-type {\n",
       "        vertical-align: middle;\n",
       "    }\n",
       "\n",
       "    .dataframe tbody tr th {\n",
       "        vertical-align: top;\n",
       "    }\n",
       "\n",
       "    .dataframe thead th {\n",
       "        text-align: right;\n",
       "    }\n",
       "</style>\n",
       "<table border=\"1\" class=\"dataframe\">\n",
       "  <thead>\n",
       "    <tr style=\"text-align: right;\">\n",
       "      <th></th>\n",
       "      <th>GT1</th>\n",
       "      <th>GQ1</th>\n",
       "      <th>DP1</th>\n",
       "      <th>RO1</th>\n",
       "      <th>QR1</th>\n",
       "      <th>AO1</th>\n",
       "      <th>QA1</th>\n",
       "      <th>GL1</th>\n",
       "    </tr>\n",
       "  </thead>\n",
       "  <tbody>\n",
       "    <tr>\n",
       "      <th>0</th>\n",
       "      <td>1</td>\n",
       "      <td>42.561</td>\n",
       "      <td>2</td>\n",
       "      <td>0</td>\n",
       "      <td>0</td>\n",
       "      <td>2</td>\n",
       "      <td>64</td>\n",
       "      <td>-6.06226,0</td>\n",
       "    </tr>\n",
       "    <tr>\n",
       "      <th>1</th>\n",
       "      <td>1</td>\n",
       "      <td>42.561</td>\n",
       "      <td>2</td>\n",
       "      <td>0</td>\n",
       "      <td>0</td>\n",
       "      <td>2</td>\n",
       "      <td>64</td>\n",
       "      <td>-6.06226,0</td>\n",
       "    </tr>\n",
       "    <tr>\n",
       "      <th>2</th>\n",
       "      <td>1</td>\n",
       "      <td>48.1448</td>\n",
       "      <td>2</td>\n",
       "      <td>0</td>\n",
       "      <td>0</td>\n",
       "      <td>2</td>\n",
       "      <td>70</td>\n",
       "      <td>-6.62066,0</td>\n",
       "    </tr>\n",
       "    <tr>\n",
       "      <th>3</th>\n",
       "      <td>1</td>\n",
       "      <td>48.1448</td>\n",
       "      <td>2</td>\n",
       "      <td>0</td>\n",
       "      <td>0</td>\n",
       "      <td>2</td>\n",
       "      <td>70</td>\n",
       "      <td>-6.62066,0</td>\n",
       "    </tr>\n",
       "    <tr>\n",
       "      <th>4</th>\n",
       "      <td>1</td>\n",
       "      <td>0.678563</td>\n",
       "      <td>6</td>\n",
       "      <td>0</td>\n",
       "      <td>0</td>\n",
       "      <td>6</td>\n",
       "      <td>129</td>\n",
       "      <td>-4.64672,0</td>\n",
       "    </tr>\n",
       "    <tr>\n",
       "      <th>...</th>\n",
       "      <td>...</td>\n",
       "      <td>...</td>\n",
       "      <td>...</td>\n",
       "      <td>...</td>\n",
       "      <td>...</td>\n",
       "      <td>...</td>\n",
       "      <td>...</td>\n",
       "      <td>...</td>\n",
       "    </tr>\n",
       "    <tr>\n",
       "      <th>23398</th>\n",
       "      <td>0</td>\n",
       "      <td>88.5166</td>\n",
       "      <td>20</td>\n",
       "      <td>10</td>\n",
       "      <td>312</td>\n",
       "      <td>10</td>\n",
       "      <td>293</td>\n",
       "      <td>0,-6.6933</td>\n",
       "    </tr>\n",
       "    <tr>\n",
       "      <th>23399</th>\n",
       "      <td>1</td>\n",
       "      <td>18.47</td>\n",
       "      <td>20</td>\n",
       "      <td>9</td>\n",
       "      <td>242</td>\n",
       "      <td>11</td>\n",
       "      <td>312</td>\n",
       "      <td>-3.41274,0</td>\n",
       "    </tr>\n",
       "    <tr>\n",
       "      <th>23400</th>\n",
       "      <td>0</td>\n",
       "      <td>0.156601</td>\n",
       "      <td>8</td>\n",
       "      <td>6</td>\n",
       "      <td>154</td>\n",
       "      <td>2</td>\n",
       "      <td>70</td>\n",
       "      <td>0,-2.17722</td>\n",
       "    </tr>\n",
       "    <tr>\n",
       "      <th>23401</th>\n",
       "      <td>1</td>\n",
       "      <td>90.3012</td>\n",
       "      <td>14</td>\n",
       "      <td>3</td>\n",
       "      <td>69</td>\n",
       "      <td>7</td>\n",
       "      <td>187</td>\n",
       "      <td>-10.5086,0</td>\n",
       "    </tr>\n",
       "    <tr>\n",
       "      <th>23402</th>\n",
       "      <td>0</td>\n",
       "      <td>0.666773</td>\n",
       "      <td>7</td>\n",
       "      <td>5</td>\n",
       "      <td>46</td>\n",
       "      <td>2</td>\n",
       "      <td>4</td>\n",
       "      <td>0,-1.92923</td>\n",
       "    </tr>\n",
       "  </tbody>\n",
       "</table>\n",
       "<p>23403 rows × 8 columns</p>\n",
       "</div>"
      ],
      "text/plain": [
       "      GT1       GQ1 DP1 RO1  QR1 AO1  QA1         GL1\n",
       "0       1    42.561   2   0    0   2   64  -6.06226,0\n",
       "1       1    42.561   2   0    0   2   64  -6.06226,0\n",
       "2       1   48.1448   2   0    0   2   70  -6.62066,0\n",
       "3       1   48.1448   2   0    0   2   70  -6.62066,0\n",
       "4       1  0.678563   6   0    0   6  129  -4.64672,0\n",
       "...    ..       ...  ..  ..  ...  ..  ...         ...\n",
       "23398   0   88.5166  20  10  312  10  293   0,-6.6933\n",
       "23399   1     18.47  20   9  242  11  312  -3.41274,0\n",
       "23400   0  0.156601   8   6  154   2   70  0,-2.17722\n",
       "23401   1   90.3012  14   3   69   7  187  -10.5086,0\n",
       "23402   0  0.666773   7   5   46   2    4  0,-1.92923\n",
       "\n",
       "[23403 rows x 8 columns]"
      ]
     },
     "execution_count": 15,
     "metadata": {},
     "output_type": "execute_result"
    }
   ],
   "source": [
    "split_sample2 = f2[\"Sample2\"].str.split(\":\")\n",
    "data2 = split_sample2.to_list()\n",
    "names2 = [\"GT1\", \"GQ1\",\"DP1\",\"RO1\",\"QR1\", \"AO1\", \"QA1\", \"GL1\"]\n",
    "new_df_sample2 = pd.DataFrame(data2, columns=names2)\n",
    "new_df_sample2"
   ]
  },
  {
   "cell_type": "code",
   "execution_count": 16,
   "metadata": {},
   "outputs": [
    {
     "data": {
      "image/png": "[encoded data removed]",
      "text/plain": [
       "<Figure size 432x288 with 1 Axes>"
      ]
     },
     "metadata": {
      "needs_background": "light"
     },
     "output_type": "display_data"
    }
   ],
   "source": [
    "Depth_dist2=new_df_sample2.loc[:,\"DP1\"]\n",
    "fig,ax=plt.subplots()\n",
    "ax.hist(Depth_dist2, color='blue', alpha=0.5,bins=30)\n",
    "ax.set_ylabel(\"Frequency\")\n",
    "ax.set_title(\"Sample 2 Depth distribution\")\n",
    "plt.show()"
   ]
  },
  {
   "cell_type": "code",
   "execution_count": 17,
   "metadata": {},
   "outputs": [
    {
     "data": {
      "image/png": "[encoded data removed]",
      "text/plain": [
       "<Figure size 432x288 with 1 Axes>"
      ]
     },
     "metadata": {
      "needs_background": "light"
     },
     "output_type": "display_data"
    }
   ],
   "source": [
    "Quality_dist2=new_df_sample2.loc[:,\"GQ1\"]\n",
    "fig,ax=plt.subplots()\n",
    "ax.hist(Quality_dist2, color='blue', alpha=0.5,bins=50)\n",
    "ax.set_ylabel(\"Frequency\")\n",
    "ax.set_title(\"Sample 2 quality distribution\")\n",
    "plt.show()"
   ]
  },
  {
   "cell_type": "code",
   "execution_count": 18,
   "metadata": {},
   "outputs": [
    {
     "data": {
      "text/html": [
       "<div>\n",
       "<style scoped>\n",
       "    .dataframe tbody tr th:only-of-type {\n",
       "        vertical-align: middle;\n",
       "    }\n",
       "\n",
       "    .dataframe tbody tr th {\n",
       "        vertical-align: top;\n",
       "    }\n",
       "\n",
       "    .dataframe thead th {\n",
       "        text-align: right;\n",
       "    }\n",
       "</style>\n",
       "<table border=\"1\" class=\"dataframe\">\n",
       "  <thead>\n",
       "    <tr style=\"text-align: right;\">\n",
       "      <th></th>\n",
       "      <th>AB</th>\n",
       "      <th>ABP</th>\n",
       "      <th>AC</th>\n",
       "      <th>AF</th>\n",
       "      <th>5</th>\n",
       "      <th>6</th>\n",
       "      <th>7</th>\n",
       "      <th>8</th>\n",
       "      <th>9</th>\n",
       "      <th>10</th>\n",
       "      <th>...</th>\n",
       "      <th>34</th>\n",
       "      <th>35</th>\n",
       "      <th>36</th>\n",
       "      <th>37</th>\n",
       "      <th>38</th>\n",
       "      <th>39</th>\n",
       "      <th>40</th>\n",
       "      <th>41</th>\n",
       "      <th>snpeff</th>\n",
       "      <th>43</th>\n",
       "    </tr>\n",
       "  </thead>\n",
       "  <tbody>\n",
       "    <tr>\n",
       "      <th>0</th>\n",
       "      <td>AB=0</td>\n",
       "      <td>ABP=0</td>\n",
       "      <td>AC=1</td>\n",
       "      <td>AF=1</td>\n",
       "      <td>AN=1</td>\n",
       "      <td>AO=2</td>\n",
       "      <td>CIGAR=1X1M1X</td>\n",
       "      <td>DP=2</td>\n",
       "      <td>DPB=2</td>\n",
       "      <td>DPRA=0</td>\n",
       "      <td>...</td>\n",
       "      <td>RUN=1</td>\n",
       "      <td>SAF=2</td>\n",
       "      <td>SAP=7.35324</td>\n",
       "      <td>SAR=0</td>\n",
       "      <td>SRF=0</td>\n",
       "      <td>SRP=0</td>\n",
       "      <td>SRR=0</td>\n",
       "      <td>TYPE=snp</td>\n",
       "      <td>ANN=T|upstream_gene_variant|MODIFIER|YAL067W-A...</td>\n",
       "      <td>None</td>\n",
       "    </tr>\n",
       "    <tr>\n",
       "      <th>1</th>\n",
       "      <td>AB=0</td>\n",
       "      <td>ABP=0</td>\n",
       "      <td>AC=1</td>\n",
       "      <td>AF=1</td>\n",
       "      <td>AN=1</td>\n",
       "      <td>AO=2</td>\n",
       "      <td>CIGAR=1X1M1X</td>\n",
       "      <td>DP=2</td>\n",
       "      <td>DPB=2</td>\n",
       "      <td>DPRA=0</td>\n",
       "      <td>...</td>\n",
       "      <td>RUN=1</td>\n",
       "      <td>SAF=2</td>\n",
       "      <td>SAP=7.35324</td>\n",
       "      <td>SAR=0</td>\n",
       "      <td>SRF=0</td>\n",
       "      <td>SRP=0</td>\n",
       "      <td>SRR=0</td>\n",
       "      <td>TYPE=snp</td>\n",
       "      <td>ANN=A|upstream_gene_variant|MODIFIER|YAL067W-A...</td>\n",
       "      <td>None</td>\n",
       "    </tr>\n",
       "    <tr>\n",
       "      <th>2</th>\n",
       "      <td>AB=0</td>\n",
       "      <td>ABP=0</td>\n",
       "      <td>AC=1</td>\n",
       "      <td>AF=1</td>\n",
       "      <td>AN=1</td>\n",
       "      <td>AO=2</td>\n",
       "      <td>CIGAR=2X</td>\n",
       "      <td>DP=2</td>\n",
       "      <td>DPB=2</td>\n",
       "      <td>DPRA=0</td>\n",
       "      <td>...</td>\n",
       "      <td>RUN=1</td>\n",
       "      <td>SAF=2</td>\n",
       "      <td>SAP=7.35324</td>\n",
       "      <td>SAR=0</td>\n",
       "      <td>SRF=0</td>\n",
       "      <td>SRP=0</td>\n",
       "      <td>SRR=0</td>\n",
       "      <td>TYPE=snp</td>\n",
       "      <td>ANN=G|upstream_gene_variant|MODIFIER|YAL067W-A...</td>\n",
       "      <td>None</td>\n",
       "    </tr>\n",
       "    <tr>\n",
       "      <th>3</th>\n",
       "      <td>AB=0</td>\n",
       "      <td>ABP=0</td>\n",
       "      <td>AC=1</td>\n",
       "      <td>AF=1</td>\n",
       "      <td>AN=1</td>\n",
       "      <td>AO=2</td>\n",
       "      <td>CIGAR=2X</td>\n",
       "      <td>DP=2</td>\n",
       "      <td>DPB=2</td>\n",
       "      <td>DPRA=0</td>\n",
       "      <td>...</td>\n",
       "      <td>RUN=1</td>\n",
       "      <td>SAF=2</td>\n",
       "      <td>SAP=7.35324</td>\n",
       "      <td>SAR=0</td>\n",
       "      <td>SRF=0</td>\n",
       "      <td>SRP=0</td>\n",
       "      <td>SRR=0</td>\n",
       "      <td>TYPE=snp</td>\n",
       "      <td>ANN=C|upstream_gene_variant|MODIFIER|YAL067W-A...</td>\n",
       "      <td>None</td>\n",
       "    </tr>\n",
       "    <tr>\n",
       "      <th>4</th>\n",
       "      <td>AB=0</td>\n",
       "      <td>ABP=0</td>\n",
       "      <td>AC=1</td>\n",
       "      <td>AF=1</td>\n",
       "      <td>AN=1</td>\n",
       "      <td>AO=6</td>\n",
       "      <td>CIGAR=1X</td>\n",
       "      <td>DP=6</td>\n",
       "      <td>DPB=6</td>\n",
       "      <td>DPRA=0</td>\n",
       "      <td>...</td>\n",
       "      <td>RUN=1</td>\n",
       "      <td>SAF=6</td>\n",
       "      <td>SAP=16.0391</td>\n",
       "      <td>SAR=0</td>\n",
       "      <td>SRF=0</td>\n",
       "      <td>SRP=0</td>\n",
       "      <td>SRR=0</td>\n",
       "      <td>TYPE=snp</td>\n",
       "      <td>ANN=A|upstream_gene_variant|MODIFIER|YAL067W-A...</td>\n",
       "      <td>None</td>\n",
       "    </tr>\n",
       "    <tr>\n",
       "      <th>...</th>\n",
       "      <td>...</td>\n",
       "      <td>...</td>\n",
       "      <td>...</td>\n",
       "      <td>...</td>\n",
       "      <td>...</td>\n",
       "      <td>...</td>\n",
       "      <td>...</td>\n",
       "      <td>...</td>\n",
       "      <td>...</td>\n",
       "      <td>...</td>\n",
       "      <td>...</td>\n",
       "      <td>...</td>\n",
       "      <td>...</td>\n",
       "      <td>...</td>\n",
       "      <td>...</td>\n",
       "      <td>...</td>\n",
       "      <td>...</td>\n",
       "      <td>...</td>\n",
       "      <td>...</td>\n",
       "      <td>...</td>\n",
       "      <td>...</td>\n",
       "    </tr>\n",
       "    <tr>\n",
       "      <th>23398</th>\n",
       "      <td>AB=0</td>\n",
       "      <td>ABP=0</td>\n",
       "      <td>AC=0</td>\n",
       "      <td>AF=0</td>\n",
       "      <td>AN=1</td>\n",
       "      <td>AO=10</td>\n",
       "      <td>CIGAR=1X</td>\n",
       "      <td>DP=20</td>\n",
       "      <td>DPB=20</td>\n",
       "      <td>DPRA=0</td>\n",
       "      <td>...</td>\n",
       "      <td>RUN=1</td>\n",
       "      <td>SAF=10</td>\n",
       "      <td>SAP=24.725</td>\n",
       "      <td>SAR=0</td>\n",
       "      <td>SRF=10</td>\n",
       "      <td>SRP=24.725</td>\n",
       "      <td>SRR=0</td>\n",
       "      <td>TYPE=snp</td>\n",
       "      <td>ANN=A|upstream_gene_variant|MODIFIER|ARR1|YPR1...</td>\n",
       "      <td>None</td>\n",
       "    </tr>\n",
       "    <tr>\n",
       "      <th>23399</th>\n",
       "      <td>AB=0</td>\n",
       "      <td>ABP=0</td>\n",
       "      <td>AC=1</td>\n",
       "      <td>AF=1</td>\n",
       "      <td>AN=1</td>\n",
       "      <td>AO=11</td>\n",
       "      <td>CIGAR=1X</td>\n",
       "      <td>DP=20</td>\n",
       "      <td>DPB=20</td>\n",
       "      <td>DPRA=0</td>\n",
       "      <td>...</td>\n",
       "      <td>RUN=1</td>\n",
       "      <td>SAF=11</td>\n",
       "      <td>SAP=26.8965</td>\n",
       "      <td>SAR=0</td>\n",
       "      <td>SRF=9</td>\n",
       "      <td>SRP=22.5536</td>\n",
       "      <td>SRR=0</td>\n",
       "      <td>TYPE=snp</td>\n",
       "      <td>ANN=T|upstream_gene_variant|MODIFIER|ARR1|YPR1...</td>\n",
       "      <td>None</td>\n",
       "    </tr>\n",
       "    <tr>\n",
       "      <th>23400</th>\n",
       "      <td>AB=0</td>\n",
       "      <td>ABP=0</td>\n",
       "      <td>AC=0</td>\n",
       "      <td>AF=0</td>\n",
       "      <td>AN=1</td>\n",
       "      <td>AO=2</td>\n",
       "      <td>CIGAR=1X</td>\n",
       "      <td>DP=8</td>\n",
       "      <td>DPB=8</td>\n",
       "      <td>DPRA=0</td>\n",
       "      <td>...</td>\n",
       "      <td>RUN=1</td>\n",
       "      <td>SAF=2</td>\n",
       "      <td>SAP=7.35324</td>\n",
       "      <td>SAR=0</td>\n",
       "      <td>SRF=6</td>\n",
       "      <td>SRP=16.0391</td>\n",
       "      <td>SRR=0</td>\n",
       "      <td>TYPE=snp</td>\n",
       "      <td>ANN=C|upstream_gene_variant|MODIFIER|ARR1|YPR1...</td>\n",
       "      <td>None</td>\n",
       "    </tr>\n",
       "    <tr>\n",
       "      <th>23401</th>\n",
       "      <td>AB=0</td>\n",
       "      <td>ABP=0</td>\n",
       "      <td>AC=1</td>\n",
       "      <td>AF=1</td>\n",
       "      <td>AN=1</td>\n",
       "      <td>AO=7</td>\n",
       "      <td>CIGAR=1X2M</td>\n",
       "      <td>DP=14</td>\n",
       "      <td>DPB=14</td>\n",
       "      <td>DPRA=0</td>\n",
       "      <td>...</td>\n",
       "      <td>RUN=1</td>\n",
       "      <td>SAF=7</td>\n",
       "      <td>SAP=18.2106</td>\n",
       "      <td>SAR=0</td>\n",
       "      <td>SRF=3</td>\n",
       "      <td>SRP=9.52472</td>\n",
       "      <td>SRR=0</td>\n",
       "      <td>TYPE=snp</td>\n",
       "      <td>ANN=G|upstream_gene_variant|MODIFIER|ARR1|YPR1...</td>\n",
       "      <td>None</td>\n",
       "    </tr>\n",
       "    <tr>\n",
       "      <th>23402</th>\n",
       "      <td>AB=0</td>\n",
       "      <td>ABP=0</td>\n",
       "      <td>AC=0</td>\n",
       "      <td>AF=0</td>\n",
       "      <td>AN=1</td>\n",
       "      <td>AO=2</td>\n",
       "      <td>CIGAR=1X</td>\n",
       "      <td>DP=7</td>\n",
       "      <td>DPB=7</td>\n",
       "      <td>DPRA=0</td>\n",
       "      <td>...</td>\n",
       "      <td>RUN=1</td>\n",
       "      <td>SAF=2</td>\n",
       "      <td>SAP=7.35324</td>\n",
       "      <td>SAR=0</td>\n",
       "      <td>SRF=5</td>\n",
       "      <td>SRP=13.8677</td>\n",
       "      <td>SRR=0</td>\n",
       "      <td>TYPE=snp</td>\n",
       "      <td>ANN=C|missense_variant|MODERATE|YPR204W|YPR204...</td>\n",
       "      <td>None</td>\n",
       "    </tr>\n",
       "  </tbody>\n",
       "</table>\n",
       "<p>23403 rows × 43 columns</p>\n",
       "</div>"
      ],
      "text/plain": [
       "         AB    ABP    AC    AF     5      6             7      8       9  \\\n",
       "0      AB=0  ABP=0  AC=1  AF=1  AN=1   AO=2  CIGAR=1X1M1X   DP=2   DPB=2   \n",
       "1      AB=0  ABP=0  AC=1  AF=1  AN=1   AO=2  CIGAR=1X1M1X   DP=2   DPB=2   \n",
       "2      AB=0  ABP=0  AC=1  AF=1  AN=1   AO=2      CIGAR=2X   DP=2   DPB=2   \n",
       "3      AB=0  ABP=0  AC=1  AF=1  AN=1   AO=2      CIGAR=2X   DP=2   DPB=2   \n",
       "4      AB=0  ABP=0  AC=1  AF=1  AN=1   AO=6      CIGAR=1X   DP=6   DPB=6   \n",
       "...     ...    ...   ...   ...   ...    ...           ...    ...     ...   \n",
       "23398  AB=0  ABP=0  AC=0  AF=0  AN=1  AO=10      CIGAR=1X  DP=20  DPB=20   \n",
       "23399  AB=0  ABP=0  AC=1  AF=1  AN=1  AO=11      CIGAR=1X  DP=20  DPB=20   \n",
       "23400  AB=0  ABP=0  AC=0  AF=0  AN=1   AO=2      CIGAR=1X   DP=8   DPB=8   \n",
       "23401  AB=0  ABP=0  AC=1  AF=1  AN=1   AO=7    CIGAR=1X2M  DP=14  DPB=14   \n",
       "23402  AB=0  ABP=0  AC=0  AF=0  AN=1   AO=2      CIGAR=1X   DP=7   DPB=7   \n",
       "\n",
       "           10  ...     34      35           36     37      38           39  \\\n",
       "0      DPRA=0  ...  RUN=1   SAF=2  SAP=7.35324  SAR=0   SRF=0        SRP=0   \n",
       "1      DPRA=0  ...  RUN=1   SAF=2  SAP=7.35324  SAR=0   SRF=0        SRP=0   \n",
       "2      DPRA=0  ...  RUN=1   SAF=2  SAP=7.35324  SAR=0   SRF=0        SRP=0   \n",
       "3      DPRA=0  ...  RUN=1   SAF=2  SAP=7.35324  SAR=0   SRF=0        SRP=0   \n",
       "4      DPRA=0  ...  RUN=1   SAF=6  SAP=16.0391  SAR=0   SRF=0        SRP=0   \n",
       "...       ...  ...    ...     ...          ...    ...     ...          ...   \n",
       "23398  DPRA=0  ...  RUN=1  SAF=10   SAP=24.725  SAR=0  SRF=10   SRP=24.725   \n",
       "23399  DPRA=0  ...  RUN=1  SAF=11  SAP=26.8965  SAR=0   SRF=9  SRP=22.5536   \n",
       "23400  DPRA=0  ...  RUN=1   SAF=2  SAP=7.35324  SAR=0   SRF=6  SRP=16.0391   \n",
       "23401  DPRA=0  ...  RUN=1   SAF=7  SAP=18.2106  SAR=0   SRF=3  SRP=9.52472   \n",
       "23402  DPRA=0  ...  RUN=1   SAF=2  SAP=7.35324  SAR=0   SRF=5  SRP=13.8677   \n",
       "\n",
       "          40        41                                             snpeff  \\\n",
       "0      SRR=0  TYPE=snp  ANN=T|upstream_gene_variant|MODIFIER|YAL067W-A...   \n",
       "1      SRR=0  TYPE=snp  ANN=A|upstream_gene_variant|MODIFIER|YAL067W-A...   \n",
       "2      SRR=0  TYPE=snp  ANN=G|upstream_gene_variant|MODIFIER|YAL067W-A...   \n",
       "3      SRR=0  TYPE=snp  ANN=C|upstream_gene_variant|MODIFIER|YAL067W-A...   \n",
       "4      SRR=0  TYPE=snp  ANN=A|upstream_gene_variant|MODIFIER|YAL067W-A...   \n",
       "...      ...       ...                                                ...   \n",
       "23398  SRR=0  TYPE=snp  ANN=A|upstream_gene_variant|MODIFIER|ARR1|YPR1...   \n",
       "23399  SRR=0  TYPE=snp  ANN=T|upstream_gene_variant|MODIFIER|ARR1|YPR1...   \n",
       "23400  SRR=0  TYPE=snp  ANN=C|upstream_gene_variant|MODIFIER|ARR1|YPR1...   \n",
       "23401  SRR=0  TYPE=snp  ANN=G|upstream_gene_variant|MODIFIER|ARR1|YPR1...   \n",
       "23402  SRR=0  TYPE=snp  ANN=C|missense_variant|MODERATE|YPR204W|YPR204...   \n",
       "\n",
       "         43  \n",
       "0      None  \n",
       "1      None  \n",
       "2      None  \n",
       "3      None  \n",
       "4      None  \n",
       "...     ...  \n",
       "23398  None  \n",
       "23399  None  \n",
       "23400  None  \n",
       "23401  None  \n",
       "23402  None  \n",
       "\n",
       "[23403 rows x 43 columns]"
      ]
     },
     "execution_count": 18,
     "metadata": {},
     "output_type": "execute_result"
    }
   ],
   "source": [
    "split_info_sample2 = f2[\"INFO\"].str.split(\";\")\n",
    "info_data_sample2 = split_info_sample2.to_list()\n",
    "info_names_sample2 = [\"AB\", \"ABP\",\"AC\",\"AF\",\"5\", \"6\", \"7\", \"8\", \"9\",\"10\",\"11\",\"12\",\"13\",\"14\",\"15\",\"16\",\"17\",\"18\",\"19\",\"20\",\"21\",\"22\",\n",
    "\"23\",\"24\",\"25\",\"26\",\"27\",\"28\",\"29\",\"30\",\"31\",\"32\",\"33\",\"34\",\"35\",\"36\",\"37\",\"38\",\"39\",\"40\",\"41\",\"snpeff\",\"43\"]\n",
    "new_df_sample2_info = pd.DataFrame(info_data_sample2, columns=info_names_sample2)\n",
    "new_df_sample2_info"
   ]
  },
  {
   "cell_type": "code",
   "execution_count": 19,
   "metadata": {},
   "outputs": [
    {
     "data": {
      "text/html": [
       "<div>\n",
       "<style scoped>\n",
       "    .dataframe tbody tr th:only-of-type {\n",
       "        vertical-align: middle;\n",
       "    }\n",
       "\n",
       "    .dataframe tbody tr th {\n",
       "        vertical-align: top;\n",
       "    }\n",
       "\n",
       "    .dataframe thead th {\n",
       "        text-align: right;\n",
       "    }\n",
       "</style>\n",
       "<table border=\"1\" class=\"dataframe\">\n",
       "  <thead>\n",
       "    <tr style=\"text-align: right;\">\n",
       "      <th></th>\n",
       "      <th>AF</th>\n",
       "      <th>AF Value</th>\n",
       "    </tr>\n",
       "  </thead>\n",
       "  <tbody>\n",
       "    <tr>\n",
       "      <th>0</th>\n",
       "      <td>AF</td>\n",
       "      <td>1</td>\n",
       "    </tr>\n",
       "    <tr>\n",
       "      <th>1</th>\n",
       "      <td>AF</td>\n",
       "      <td>1</td>\n",
       "    </tr>\n",
       "    <tr>\n",
       "      <th>2</th>\n",
       "      <td>AF</td>\n",
       "      <td>1</td>\n",
       "    </tr>\n",
       "    <tr>\n",
       "      <th>3</th>\n",
       "      <td>AF</td>\n",
       "      <td>1</td>\n",
       "    </tr>\n",
       "    <tr>\n",
       "      <th>4</th>\n",
       "      <td>AF</td>\n",
       "      <td>1</td>\n",
       "    </tr>\n",
       "    <tr>\n",
       "      <th>...</th>\n",
       "      <td>...</td>\n",
       "      <td>...</td>\n",
       "    </tr>\n",
       "    <tr>\n",
       "      <th>23398</th>\n",
       "      <td>AF</td>\n",
       "      <td>0</td>\n",
       "    </tr>\n",
       "    <tr>\n",
       "      <th>23399</th>\n",
       "      <td>AF</td>\n",
       "      <td>1</td>\n",
       "    </tr>\n",
       "    <tr>\n",
       "      <th>23400</th>\n",
       "      <td>AF</td>\n",
       "      <td>0</td>\n",
       "    </tr>\n",
       "    <tr>\n",
       "      <th>23401</th>\n",
       "      <td>AF</td>\n",
       "      <td>1</td>\n",
       "    </tr>\n",
       "    <tr>\n",
       "      <th>23402</th>\n",
       "      <td>AF</td>\n",
       "      <td>0</td>\n",
       "    </tr>\n",
       "  </tbody>\n",
       "</table>\n",
       "<p>23403 rows × 2 columns</p>\n",
       "</div>"
      ],
      "text/plain": [
       "       AF AF Value\n",
       "0      AF        1\n",
       "1      AF        1\n",
       "2      AF        1\n",
       "3      AF        1\n",
       "4      AF        1\n",
       "...    ..      ...\n",
       "23398  AF        0\n",
       "23399  AF        1\n",
       "23400  AF        0\n",
       "23401  AF        1\n",
       "23402  AF        0\n",
       "\n",
       "[23403 rows x 2 columns]"
      ]
     },
     "execution_count": 19,
     "metadata": {},
     "output_type": "execute_result"
    }
   ],
   "source": [
    "AF_df_sample2 = new_df_sample2_info[\"AF\"].str.split(\"=\")\n",
    "AF_sample2 = AF_df_sample2.to_list()\n",
    "AF_name_sample2=[\"AF\", \"AF Value\"]\n",
    "AF_df2_sample2=pd.DataFrame(AF_sample2,columns=AF_name_sample2)\n",
    "AF_df2_sample2"
   ]
  },
  {
   "cell_type": "code",
   "execution_count": 20,
   "metadata": {},
   "outputs": [
    {
     "data": {
      "image/png": "[encoded data removed]",
      "text/plain": [
       "<Figure size 432x288 with 1 Axes>"
      ]
     },
     "metadata": {
      "needs_background": "light"
     },
     "output_type": "display_data"
    }
   ],
   "source": [
    "allele_freq_sample2=AF_df2_sample2.loc[:,\"AF Value\"]\n",
    "fig,ax=plt.subplots()\n",
    "ax.hist(allele_freq_sample2, color='blue', alpha=0.5,bins=10)\n",
    "ax.set_ylabel(\"Frequency\")\n",
    "ax.set_title(\"Sample 2 allele freq\")\n",
    "plt.show()"
   ]
  },
  {
   "cell_type": "code",
   "execution_count": 21,
   "metadata": {},
   "outputs": [],
   "source": [
    "f3=read_vcf(\"/Users/cmdb/week2/A01_23_filter_annot.vcf\")"
   ]
  },
  {
   "cell_type": "code",
   "execution_count": 22,
   "metadata": {},
   "outputs": [
    {
     "data": {
      "text/html": [
       "<div>\n",
       "<style scoped>\n",
       "    .dataframe tbody tr th:only-of-type {\n",
       "        vertical-align: middle;\n",
       "    }\n",
       "\n",
       "    .dataframe tbody tr th {\n",
       "        vertical-align: top;\n",
       "    }\n",
       "\n",
       "    .dataframe thead th {\n",
       "        text-align: right;\n",
       "    }\n",
       "</style>\n",
       "<table border=\"1\" class=\"dataframe\">\n",
       "  <thead>\n",
       "    <tr style=\"text-align: right;\">\n",
       "      <th></th>\n",
       "      <th>GT1</th>\n",
       "      <th>GQ1</th>\n",
       "      <th>DP1</th>\n",
       "      <th>RO1</th>\n",
       "      <th>QR1</th>\n",
       "      <th>AO1</th>\n",
       "      <th>QA1</th>\n",
       "      <th>GL1</th>\n",
       "    </tr>\n",
       "  </thead>\n",
       "  <tbody>\n",
       "    <tr>\n",
       "      <th>0</th>\n",
       "      <td>1</td>\n",
       "      <td>0.111589</td>\n",
       "      <td>2</td>\n",
       "      <td>0</td>\n",
       "      <td>0</td>\n",
       "      <td>2</td>\n",
       "      <td>26</td>\n",
       "      <td>-0.221608,0</td>\n",
       "    </tr>\n",
       "    <tr>\n",
       "      <th>1</th>\n",
       "      <td>1</td>\n",
       "      <td>1.15201</td>\n",
       "      <td>3</td>\n",
       "      <td>0</td>\n",
       "      <td>0</td>\n",
       "      <td>3</td>\n",
       "      <td>88</td>\n",
       "      <td>-2.19182,0</td>\n",
       "    </tr>\n",
       "    <tr>\n",
       "      <th>2</th>\n",
       "      <td>1</td>\n",
       "      <td>1.15201</td>\n",
       "      <td>3</td>\n",
       "      <td>0</td>\n",
       "      <td>0</td>\n",
       "      <td>3</td>\n",
       "      <td>88</td>\n",
       "      <td>-2.19182,0</td>\n",
       "    </tr>\n",
       "    <tr>\n",
       "      <th>3</th>\n",
       "      <td>1</td>\n",
       "      <td>1.46501</td>\n",
       "      <td>6</td>\n",
       "      <td>0</td>\n",
       "      <td>0</td>\n",
       "      <td>6</td>\n",
       "      <td>191</td>\n",
       "      <td>-5.0219,0</td>\n",
       "    </tr>\n",
       "    <tr>\n",
       "      <th>4</th>\n",
       "      <td>1</td>\n",
       "      <td>1.34812</td>\n",
       "      <td>6</td>\n",
       "      <td>0</td>\n",
       "      <td>0</td>\n",
       "      <td>6</td>\n",
       "      <td>183</td>\n",
       "      <td>-4.97963,0</td>\n",
       "    </tr>\n",
       "    <tr>\n",
       "      <th>...</th>\n",
       "      <td>...</td>\n",
       "      <td>...</td>\n",
       "      <td>...</td>\n",
       "      <td>...</td>\n",
       "      <td>...</td>\n",
       "      <td>...</td>\n",
       "      <td>...</td>\n",
       "      <td>...</td>\n",
       "    </tr>\n",
       "    <tr>\n",
       "      <th>20982</th>\n",
       "      <td>0</td>\n",
       "      <td>3.24712</td>\n",
       "      <td>4</td>\n",
       "      <td>2</td>\n",
       "      <td>57</td>\n",
       "      <td>2</td>\n",
       "      <td>51</td>\n",
       "      <td>0,-0.0461394</td>\n",
       "    </tr>\n",
       "    <tr>\n",
       "      <th>20983</th>\n",
       "      <td>0</td>\n",
       "      <td>56.3425</td>\n",
       "      <td>10</td>\n",
       "      <td>7</td>\n",
       "      <td>154</td>\n",
       "      <td>3</td>\n",
       "      <td>43</td>\n",
       "      <td>0,-8.51066</td>\n",
       "    </tr>\n",
       "    <tr>\n",
       "      <th>20984</th>\n",
       "      <td>0</td>\n",
       "      <td>63.4376</td>\n",
       "      <td>10</td>\n",
       "      <td>7</td>\n",
       "      <td>95</td>\n",
       "      <td>2</td>\n",
       "      <td>6</td>\n",
       "      <td>0,-7.77108</td>\n",
       "    </tr>\n",
       "    <tr>\n",
       "      <th>20985</th>\n",
       "      <td>1</td>\n",
       "      <td>0.111825</td>\n",
       "      <td>7</td>\n",
       "      <td>0</td>\n",
       "      <td>0</td>\n",
       "      <td>7</td>\n",
       "      <td>230</td>\n",
       "      <td>-4.73799,0</td>\n",
       "    </tr>\n",
       "    <tr>\n",
       "      <th>20986</th>\n",
       "      <td>1</td>\n",
       "      <td>0.141089</td>\n",
       "      <td>2</td>\n",
       "      <td>0</td>\n",
       "      <td>0</td>\n",
       "      <td>2</td>\n",
       "      <td>16</td>\n",
       "      <td>-0.324963,0</td>\n",
       "    </tr>\n",
       "  </tbody>\n",
       "</table>\n",
       "<p>20987 rows × 8 columns</p>\n",
       "</div>"
      ],
      "text/plain": [
       "      GT1       GQ1 DP1 RO1  QR1 AO1  QA1           GL1\n",
       "0       1  0.111589   2   0    0   2   26   -0.221608,0\n",
       "1       1   1.15201   3   0    0   3   88    -2.19182,0\n",
       "2       1   1.15201   3   0    0   3   88    -2.19182,0\n",
       "3       1   1.46501   6   0    0   6  191     -5.0219,0\n",
       "4       1   1.34812   6   0    0   6  183    -4.97963,0\n",
       "...    ..       ...  ..  ..  ...  ..  ...           ...\n",
       "20982   0   3.24712   4   2   57   2   51  0,-0.0461394\n",
       "20983   0   56.3425  10   7  154   3   43    0,-8.51066\n",
       "20984   0   63.4376  10   7   95   2    6    0,-7.77108\n",
       "20985   1  0.111825   7   0    0   7  230    -4.73799,0\n",
       "20986   1  0.141089   2   0    0   2   16   -0.324963,0\n",
       "\n",
       "[20987 rows x 8 columns]"
      ]
     },
     "execution_count": 22,
     "metadata": {},
     "output_type": "execute_result"
    }
   ],
   "source": [
    "split_sample3 = f3[\"Sample3\"].str.split(\":\")\n",
    "data3 = split_sample3.to_list()\n",
    "names3 = [\"GT1\", \"GQ1\",\"DP1\",\"RO1\",\"QR1\", \"AO1\", \"QA1\", \"GL1\"]\n",
    "new_df_sample3 = pd.DataFrame(data3, columns=names3)\n",
    "new_df_sample3"
   ]
  },
  {
   "cell_type": "code",
   "execution_count": 23,
   "metadata": {},
   "outputs": [
    {
     "data": {
      "image/png": "[encoded data removed]",
      "text/plain": [
       "<Figure size 432x288 with 1 Axes>"
      ]
     },
     "metadata": {
      "needs_background": "light"
     },
     "output_type": "display_data"
    }
   ],
   "source": [
    "Depth_dist3=new_df_sample3.loc[:,\"DP1\"]\n",
    "fig,ax=plt.subplots()\n",
    "ax.hist(Depth_dist3, color='blue', alpha=0.5,bins=30)\n",
    "ax.set_ylabel(\"Frequency\")\n",
    "ax.set_title(\"Sample 3 Depth distribution\")\n",
    "plt.show()"
   ]
  },
  {
   "cell_type": "code",
   "execution_count": 24,
   "metadata": {},
   "outputs": [
    {
     "data": {
      "image/png": "[encoded data removed]",
      "text/plain": [
       "<Figure size 432x288 with 1 Axes>"
      ]
     },
     "metadata": {
      "needs_background": "light"
     },
     "output_type": "display_data"
    }
   ],
   "source": [
    "Quality_dist3=new_df_sample3.loc[:,\"GQ1\"]\n",
    "fig,ax=plt.subplots()\n",
    "ax.hist(Quality_dist3, color='blue', alpha=0.5,bins=50)\n",
    "ax.set_ylabel(\"Frequency\")\n",
    "ax.set_title(\"Sample 3 quality distribution\")\n",
    "plt.show()"
   ]
  },
  {
   "cell_type": "code",
   "execution_count": 25,
   "metadata": {},
   "outputs": [],
   "source": [
    "split_info_sample3 = f3[\"INFO\"].str.split(\";\")\n",
    "info_data_sample3 = split_info_sample3.to_list()\n",
    "info_names_sample3 = [\"AB\", \"ABP\",\"AC\",\"AF\",\"5\", \"6\", \"7\", \"8\", \"9\",\"10\",\"11\",\"12\",\"13\",\"14\",\"15\",\"16\",\"17\",\"18\",\"19\",\"20\",\"21\",\"22\",\n",
    "\"23\",\"24\",\"25\",\"26\",\"27\",\"28\",\"29\",\"30\",\"31\",\"32\",\"33\",\"34\",\"35\",\"36\",\"37\",\"38\",\"39\",\"40\",\"41\",\"snpeff\",\"43\"]\n",
    "new_df_sample3_info = pd.DataFrame(info_data_sample3, columns=info_names_sample3)\n",
    "#new_df_sample3_info"
   ]
  },
  {
   "cell_type": "code",
   "execution_count": 26,
   "metadata": {},
   "outputs": [],
   "source": [
    "AF_df_sample3 = new_df_sample3_info[\"AF\"].str.split(\"=\")\n",
    "AF_sample3 = AF_df_sample3.to_list()\n",
    "AF_name_sample3=[\"AF\", \"AF Value\"]\n",
    "AF_df2_sample3=pd.DataFrame(AF_sample3,columns=AF_name_sample3)\n",
    "#AF_df2_sample3"
   ]
  },
  {
   "cell_type": "code",
   "execution_count": 27,
   "metadata": {},
   "outputs": [
    {
     "data": {
      "image/png": "[encoded data removed]",
      "text/plain": [
       "<Figure size 432x288 with 1 Axes>"
      ]
     },
     "metadata": {
      "needs_background": "light"
     },
     "output_type": "display_data"
    }
   ],
   "source": [
    "allele_freq_sample3=AF_df2_sample3.loc[:,\"AF Value\"]\n",
    "fig,ax=plt.subplots()\n",
    "ax.hist(allele_freq_sample3, color='blue', alpha=0.5,bins=10)\n",
    "ax.set_ylabel(\"Frequency\")\n",
    "ax.set_title(\"Sample 3 allele freq\")\n",
    "plt.show()"
   ]
  },
  {
   "cell_type": "code",
   "execution_count": 28,
   "metadata": {},
   "outputs": [],
   "source": [
    "f4=read_vcf(\"/Users/cmdb/week2/A01_24_filter_annot.vcf\")"
   ]
  },
  {
   "cell_type": "code",
   "execution_count": 29,
   "metadata": {},
   "outputs": [],
   "source": [
    "split_sample4 = f4[\"Sample4\"].str.split(\":\")\n",
    "data4 = split_sample4.to_list()\n",
    "names4 = [\"GT1\", \"GQ1\",\"DP1\",\"RO1\",\"QR1\", \"AO1\", \"QA1\", \"GL1\"]\n",
    "new_df_sample4 = pd.DataFrame(data4, columns=names4)\n",
    "#new_df_sample4"
   ]
  },
  {
   "cell_type": "code",
   "execution_count": 30,
   "metadata": {},
   "outputs": [
    {
     "data": {
      "image/png": "[encoded data removed]",
      "text/plain": [
       "<Figure size 432x288 with 1 Axes>"
      ]
     },
     "metadata": {
      "needs_background": "light"
     },
     "output_type": "display_data"
    }
   ],
   "source": [
    "Depth_dist4=new_df_sample4.loc[:,\"DP1\"]\n",
    "fig,ax=plt.subplots()\n",
    "ax.hist(Depth_dist4, color='blue', alpha=0.5,bins=30)\n",
    "ax.set_ylabel(\"Frequency\")\n",
    "ax.set_title(\"Sample 4 Depth distribution\")\n",
    "plt.show()"
   ]
  },
  {
   "cell_type": "code",
   "execution_count": 31,
   "metadata": {},
   "outputs": [
    {
     "data": {
      "image/png": "[encoded data removed]",
      "text/plain": [
       "<Figure size 432x288 with 1 Axes>"
      ]
     },
     "metadata": {
      "needs_background": "light"
     },
     "output_type": "display_data"
    }
   ],
   "source": [
    "Quality_dist4=new_df_sample4.loc[:,\"GQ1\"]\n",
    "fig,ax=plt.subplots()\n",
    "ax.hist(Quality_dist4, color='blue', alpha=0.5,bins=50)\n",
    "ax.set_ylabel(\"Frequency\")\n",
    "ax.set_title(\"Sample 4 quality distribution\")\n",
    "plt.show()"
   ]
  },
  {
   "cell_type": "code",
   "execution_count": 32,
   "metadata": {},
   "outputs": [],
   "source": [
    "split_info_sample4 = f4[\"INFO\"].str.split(\";\")\n",
    "info_data_sample4 = split_info_sample4.to_list()\n",
    "info_names_sample4 = [\"AB\", \"ABP\",\"AC\",\"AF\",\"5\", \"6\", \"7\", \"8\", \"9\",\"10\",\"11\",\"12\",\"13\",\"14\",\"15\",\"16\",\"17\",\"18\",\"19\",\"20\",\"21\",\"22\",\n",
    "\"23\",\"24\",\"25\",\"26\",\"27\",\"28\",\"29\",\"30\",\"31\",\"32\",\"33\",\"34\",\"35\",\"36\",\"37\",\"38\",\"39\",\"40\",\"41\",\"snpeff\",\"43\"]\n",
    "new_df_sample4_info = pd.DataFrame(info_data_sample4, columns=info_names_sample4)\n",
    "#new_df_sample4_info"
   ]
  },
  {
   "cell_type": "code",
   "execution_count": 33,
   "metadata": {},
   "outputs": [],
   "source": [
    "AF_df_sample4 = new_df_sample4_info[\"AF\"].str.split(\"=\")\n",
    "AF_sample4 = AF_df_sample4.to_list()\n",
    "AF_name_sample4=[\"AF\", \"AF Value\"]\n",
    "AF_df2_sample4=pd.DataFrame(AF_sample4,columns=AF_name_sample4)\n",
    "#AF_df2_sample4"
   ]
  },
  {
   "cell_type": "code",
   "execution_count": 34,
   "metadata": {},
   "outputs": [
    {
     "data": {
      "image/png": "[encoded data removed]",
      "text/plain": [
       "<Figure size 432x288 with 1 Axes>"
      ]
     },
     "metadata": {
      "needs_background": "light"
     },
     "output_type": "display_data"
    }
   ],
   "source": [
    "allele_freq_sample4=AF_df2_sample4.loc[:,\"AF Value\"]\n",
    "fig,ax=plt.subplots()\n",
    "ax.hist(allele_freq_sample4, color='blue', alpha=0.5,bins=10)\n",
    "ax.set_ylabel(\"Frequency\")\n",
    "ax.set_title(\"Sample 4 allele freq\")\n",
    "plt.show()"
   ]
  },
  {
   "cell_type": "code",
   "execution_count": 35,
   "metadata": {},
   "outputs": [],
   "source": [
    "f5=read_vcf(\"/Users/cmdb/week2/A01_27_filter_annot.vcf\")"
   ]
  },
  {
   "cell_type": "code",
   "execution_count": 36,
   "metadata": {},
   "outputs": [],
   "source": [
    "split_sample5 = f5[\"Sample5\"].str.split(\":\")\n",
    "data5 = split_sample5.to_list()\n",
    "names5 = [\"GT1\", \"GQ1\",\"DP1\",\"RO1\",\"QR1\", \"AO1\", \"QA1\", \"GL1\"]\n",
    "new_df_sample5 = pd.DataFrame(data5, columns=names5)\n",
    "#new_df_sample5"
   ]
  },
  {
   "cell_type": "code",
   "execution_count": 37,
   "metadata": {},
   "outputs": [
    {
     "data": {
      "image/png": "[encoded data removed]",
      "text/plain": [
       "<Figure size 432x288 with 1 Axes>"
      ]
     },
     "metadata": {
      "needs_background": "light"
     },
     "output_type": "display_data"
    }
   ],
   "source": [
    "Depth_dist5=new_df_sample5.loc[:,\"DP1\"]\n",
    "fig,ax=plt.subplots()\n",
    "ax.hist(Depth_dist5, color='blue', alpha=0.5,bins=30)\n",
    "ax.set_ylabel(\"Frequency\")\n",
    "ax.set_title(\"Sample 5 Depth distribution\")\n",
    "plt.show()"
   ]
  },
  {
   "cell_type": "code",
   "execution_count": 38,
   "metadata": {},
   "outputs": [
    {
     "data": {
      "image/png": "[encoded data removed]",
      "text/plain": [
       "<Figure size 432x288 with 1 Axes>"
      ]
     },
     "metadata": {
      "needs_background": "light"
     },
     "output_type": "display_data"
    }
   ],
   "source": [
    "Quality_dist5=new_df_sample5.loc[:,\"GQ1\"]\n",
    "fig,ax=plt.subplots()\n",
    "ax.hist(Quality_dist5, color='blue', alpha=0.5,bins=50)\n",
    "ax.set_ylabel(\"Frequency\")\n",
    "ax.set_title(\"Sample 5 quality distribution\")\n",
    "plt.show()"
   ]
  },
  {
   "cell_type": "code",
   "execution_count": 39,
   "metadata": {},
   "outputs": [],
   "source": [
    "split_info_sample5 = f5[\"INFO\"].str.split(\";\")\n",
    "info_data_sample5 = split_info_sample5.to_list()\n",
    "info_names_sample5 = [\"AB\", \"ABP\",\"AC\",\"AF\",\"5\", \"6\", \"7\", \"8\", \"9\",\"10\",\"11\",\"12\",\"13\",\"14\",\"15\",\"16\",\"17\",\"18\",\"19\",\"20\",\"21\",\"22\",\n",
    "\"23\",\"24\",\"25\",\"26\",\"27\",\"28\",\"29\",\"30\",\"31\",\"32\",\"33\",\"34\",\"35\",\"36\",\"37\",\"38\",\"39\",\"40\",\"41\",\"snpeff\",\"43\"]\n",
    "new_df_sample5_info = pd.DataFrame(info_data_sample5, columns=info_names_sample5)\n",
    "#new_df_sample4_info"
   ]
  },
  {
   "cell_type": "code",
   "execution_count": 40,
   "metadata": {},
   "outputs": [],
   "source": [
    "AF_df_sample5 = new_df_sample5_info[\"AF\"].str.split(\"=\")\n",
    "AF_sample5 = AF_df_sample5.to_list()\n",
    "AF_name_sample5=[\"AF\", \"AF Value\"]\n",
    "AF_df2_sample5=pd.DataFrame(AF_sample5,columns=AF_name_sample5)\n",
    "#AF_df2_sample5"
   ]
  },
  {
   "cell_type": "code",
   "execution_count": 41,
   "metadata": {},
   "outputs": [
    {
     "data": {
      "image/png": "[encoded data removed]",
      "text/plain": [
       "<Figure size 432x288 with 1 Axes>"
      ]
     },
     "metadata": {
      "needs_background": "light"
     },
     "output_type": "display_data"
    }
   ],
   "source": [
    "allele_freq_sample5=AF_df2_sample5.loc[:,\"AF Value\"]\n",
    "fig,ax=plt.subplots()\n",
    "ax.hist(allele_freq_sample5, color='blue', alpha=0.5,bins=10)\n",
    "ax.set_ylabel(\"Frequency\")\n",
    "ax.set_title(\"Sample 5 allele freq\")\n",
    "plt.show()"
   ]
  },
  {
   "cell_type": "code",
   "execution_count": 42,
   "metadata": {},
   "outputs": [],
   "source": [
    "f6=read_vcf(\"/Users/cmdb/week2/A01_31_filter_annot.vcf\")"
   ]
  },
  {
   "cell_type": "code",
   "execution_count": 43,
   "metadata": {},
   "outputs": [],
   "source": [
    "split_sample6 = f6[\"Sample6\"].str.split(\":\")\n",
    "data6 = split_sample6.to_list()\n",
    "names6 = [\"GT1\", \"GQ1\",\"DP1\",\"RO1\",\"QR1\", \"AO1\", \"QA1\", \"GL1\"]\n",
    "new_df_sample6 = pd.DataFrame(data6, columns=names6)\n",
    "#new_df_sample6"
   ]
  },
  {
   "cell_type": "code",
   "execution_count": 44,
   "metadata": {},
   "outputs": [
    {
     "data": {
      "image/png": "[encoded data removed]",
      "text/plain": [
       "<Figure size 432x288 with 1 Axes>"
      ]
     },
     "metadata": {
      "needs_background": "light"
     },
     "output_type": "display_data"
    }
   ],
   "source": [
    "Depth_dist6=new_df_sample6.loc[:,\"DP1\"]\n",
    "fig,ax=plt.subplots()\n",
    "ax.hist(Depth_dist6, color='blue', alpha=0.5,bins=30)\n",
    "ax.set_ylabel(\"Frequency\")\n",
    "ax.set_title(\"Sample 6 Depth distribution\")\n",
    "plt.show()"
   ]
  },
  {
   "cell_type": "code",
   "execution_count": 45,
   "metadata": {},
   "outputs": [
    {
     "data": {
      "image/png": "[encoded data removed]",
      "text/plain": [
       "<Figure size 432x288 with 1 Axes>"
      ]
     },
     "metadata": {
      "needs_background": "light"
     },
     "output_type": "display_data"
    }
   ],
   "source": [
    "Quality_dist6=new_df_sample6.loc[:,\"GQ1\"]\n",
    "fig,ax=plt.subplots()\n",
    "ax.hist(Quality_dist6, color='blue', alpha=0.5,bins=50)\n",
    "ax.set_ylabel(\"Frequency\")\n",
    "ax.set_title(\"Sample 6 quality distribution\")\n",
    "plt.show()"
   ]
  },
  {
   "cell_type": "code",
   "execution_count": 46,
   "metadata": {},
   "outputs": [],
   "source": [
    "split_info_sample6 = f6[\"INFO\"].str.split(\";\")\n",
    "info_data_sample6 = split_info_sample6.to_list()\n",
    "info_names_sample6 = [\"AB\", \"ABP\",\"AC\",\"AF\",\"5\", \"6\", \"7\", \"8\", \"9\",\"10\",\"11\",\"12\",\"13\",\"14\",\"15\",\"16\",\"17\",\"18\",\"19\",\"20\",\"21\",\"22\",\n",
    "\"23\",\"24\",\"25\",\"26\",\"27\",\"28\",\"29\",\"30\",\"31\",\"32\",\"33\",\"34\",\"35\",\"36\",\"37\",\"38\",\"39\",\"40\",\"41\",\"snpeff\",\"43\",\"44\"]\n",
    "new_df_sample6_info = pd.DataFrame(info_data_sample6, columns=info_names_sample6)\n",
    "#new_df_sample6_info"
   ]
  },
  {
   "cell_type": "code",
   "execution_count": 47,
   "metadata": {},
   "outputs": [],
   "source": [
    "AF_df_sample6 = new_df_sample6_info[\"AF\"].str.split(\"=\")\n",
    "AF_sample6 = AF_df_sample6.to_list()\n",
    "AF_name_sample6=[\"AF\", \"AF Value\"]\n",
    "AF_df2_sample6=pd.DataFrame(AF_sample6,columns=AF_name_sample6)\n",
    "#AF_df2_sample6"
   ]
  },
  {
   "cell_type": "code",
   "execution_count": 48,
   "metadata": {},
   "outputs": [
    {
     "data": {
      "image/png": "[encoded data removed]",
      "text/plain": [
       "<Figure size 432x288 with 1 Axes>"
      ]
     },
     "metadata": {
      "needs_background": "light"
     },
     "output_type": "display_data"
    }
   ],
   "source": [
    "allele_freq_sample6=AF_df2_sample6.loc[:,\"AF Value\"]\n",
    "fig,ax=plt.subplots()\n",
    "ax.hist(allele_freq_sample6, color='blue', alpha=0.5,bins=10)\n",
    "ax.set_ylabel(\"Frequency\")\n",
    "ax.set_title(\"Sample 6 allele freq\")\n",
    "plt.show()"
   ]
  },
  {
   "cell_type": "code",
   "execution_count": 49,
   "metadata": {},
   "outputs": [],
   "source": [
    "f7=read_vcf(\"/Users/cmdb/week2/A01_35_filter_annot.vcf\")"
   ]
  },
  {
   "cell_type": "code",
   "execution_count": 50,
   "metadata": {},
   "outputs": [],
   "source": [
    "split_sample7 = f7[\"Sample7\"].str.split(\":\")\n",
    "data7 = split_sample7.to_list()\n",
    "names7 = [\"GT1\", \"GQ1\",\"DP1\",\"RO1\",\"QR1\", \"AO1\", \"QA1\", \"GL1\"]\n",
    "new_df_sample7 = pd.DataFrame(data7, columns=names7)\n",
    "#new_df_sample7"
   ]
  },
  {
   "cell_type": "code",
   "execution_count": 51,
   "metadata": {},
   "outputs": [
    {
     "data": {
      "image/png": "[encoded data removed]",
      "text/plain": [
       "<Figure size 432x288 with 1 Axes>"
      ]
     },
     "metadata": {
      "needs_background": "light"
     },
     "output_type": "display_data"
    }
   ],
   "source": [
    "Depth_dist7=new_df_sample7.loc[:,\"DP1\"]\n",
    "fig,ax=plt.subplots()\n",
    "ax.hist(Depth_dist7, color='blue', alpha=0.5,bins=30)\n",
    "ax.set_ylabel(\"Frequency\")\n",
    "ax.set_title(\"Sample 7 Depth distribution\")\n",
    "plt.show()"
   ]
  },
  {
   "cell_type": "code",
   "execution_count": 52,
   "metadata": {},
   "outputs": [
    {
     "data": {
      "image/png": "[encoded data removed]",
      "text/plain": [
       "<Figure size 432x288 with 1 Axes>"
      ]
     },
     "metadata": {
      "needs_background": "light"
     },
     "output_type": "display_data"
    }
   ],
   "source": [
    "Quality_dist7=new_df_sample7.loc[:,\"GQ1\"]\n",
    "fig,ax=plt.subplots()\n",
    "ax.hist(Quality_dist7, color='blue', alpha=0.5,bins=50)\n",
    "ax.set_ylabel(\"Frequency\")\n",
    "ax.set_title(\"Sample 7 quality distribution\")\n",
    "plt.show()"
   ]
  },
  {
   "cell_type": "code",
   "execution_count": 53,
   "metadata": {},
   "outputs": [],
   "source": [
    "split_info_sample7 = f7[\"INFO\"].str.split(\";\")\n",
    "info_data_sample7 = split_info_sample7.to_list()\n",
    "info_names_sample7 = [\"AB\", \"ABP\",\"AC\",\"AF\",\"5\", \"6\", \"7\", \"8\", \"9\",\"10\",\"11\",\"12\",\"13\",\"14\",\"15\",\"16\",\"17\",\"18\",\"19\",\"20\",\"21\",\"22\",\n",
    "\"23\",\"24\",\"25\",\"26\",\"27\",\"28\",\"29\",\"30\",\"31\",\"32\",\"33\",\"34\",\"35\",\"36\",\"37\",\"38\",\"39\",\"40\",\"41\",\"snpeff\",\"43\"]\n",
    "new_df_sample7_info = pd.DataFrame(info_data_sample7, columns=info_names_sample7)\n",
    "#new_df_sample7_info"
   ]
  },
  {
   "cell_type": "code",
   "execution_count": 54,
   "metadata": {},
   "outputs": [],
   "source": [
    "AF_df_sample7 = new_df_sample7_info[\"AF\"].str.split(\"=\")\n",
    "AF_sample7 = AF_df_sample7.to_list()\n",
    "AF_name_sample7=[\"AF\", \"AF Value\"]\n",
    "AF_df2_sample7=pd.DataFrame(AF_sample7,columns=AF_name_sample7)\n",
    "#AF_df2_sample7"
   ]
  },
  {
   "cell_type": "code",
   "execution_count": 55,
   "metadata": {},
   "outputs": [
    {
     "data": {
      "image/png": "[encoded data removed]",
      "text/plain": [
       "<Figure size 432x288 with 1 Axes>"
      ]
     },
     "metadata": {
      "needs_background": "light"
     },
     "output_type": "display_data"
    }
   ],
   "source": [
    "allele_freq_sample7=AF_df2_sample7.loc[:,\"AF Value\"]\n",
    "fig,ax=plt.subplots()\n",
    "ax.hist(allele_freq_sample7, color='blue', alpha=0.5,bins=10)\n",
    "ax.set_ylabel(\"Frequency\")\n",
    "ax.set_title(\"Sample 7 allele freq\")\n",
    "plt.show()"
   ]
  },
  {
   "cell_type": "code",
   "execution_count": 56,
   "metadata": {},
   "outputs": [],
   "source": [
    "f8=read_vcf(\"/Users/cmdb/week2/A01_39_filter_annot.vcf\")"
   ]
  },
  {
   "cell_type": "code",
   "execution_count": 57,
   "metadata": {},
   "outputs": [],
   "source": [
    "split_sample8 = f8[\"Sample8\"].str.split(\":\")\n",
    "data8 = split_sample8.to_list()\n",
    "names8 = [\"GT1\", \"GQ1\",\"DP1\",\"RO1\",\"QR1\", \"AO1\", \"QA1\", \"GL1\"]\n",
    "new_df_sample8 = pd.DataFrame(data8, columns=names8)\n",
    "#new_df_sample8"
   ]
  },
  {
   "cell_type": "code",
   "execution_count": 58,
   "metadata": {},
   "outputs": [
    {
     "data": {
      "image/png": "[encoded data removed]",
      "text/plain": [
       "<Figure size 432x288 with 1 Axes>"
      ]
     },
     "metadata": {
      "needs_background": "light"
     },
     "output_type": "display_data"
    }
   ],
   "source": [
    "Depth_dist8=new_df_sample8.loc[:,\"DP1\"]\n",
    "fig,ax=plt.subplots()\n",
    "ax.hist(Depth_dist8, color='blue', alpha=0.5,bins=30)\n",
    "ax.set_ylabel(\"Frequency\")\n",
    "ax.set_title(\"Sample 8 Depth distribution\")\n",
    "plt.show()"
   ]
  },
  {
   "cell_type": "code",
   "execution_count": 59,
   "metadata": {},
   "outputs": [
    {
     "data": {
      "image/png": "[encoded data removed]",
      "text/plain": [
       "<Figure size 432x288 with 1 Axes>"
      ]
     },
     "metadata": {
      "needs_background": "light"
     },
     "output_type": "display_data"
    }
   ],
   "source": [
    "Quality_dist8=new_df_sample8.loc[:,\"GQ1\"]\n",
    "fig,ax=plt.subplots()\n",
    "ax.hist(Quality_dist8, color='blue', alpha=0.5,bins=50)\n",
    "ax.set_ylabel(\"Frequency\")\n",
    "ax.set_title(\"Sample 8 quality distribution\")\n",
    "plt.show()"
   ]
  },
  {
   "cell_type": "code",
   "execution_count": 60,
   "metadata": {},
   "outputs": [],
   "source": [
    "split_info_sample8 = f8[\"INFO\"].str.split(\";\")\n",
    "info_data_sample8 = split_info_sample8.to_list()\n",
    "info_names_sample8 = [\"AB\", \"ABP\",\"AC\",\"AF\",\"5\", \"6\", \"7\", \"8\", \"9\",\"10\",\"11\",\"12\",\"13\",\"14\",\"15\",\"16\",\"17\",\"18\",\"19\",\"20\",\"21\",\"22\",\n",
    "\"23\",\"24\",\"25\",\"26\",\"27\",\"28\",\"29\",\"30\",\"31\",\"32\",\"33\",\"34\",\"35\",\"36\",\"37\",\"38\",\"39\",\"40\",\"41\",\"snpeff\",\"43\"]\n",
    "new_df_sample8_info = pd.DataFrame(info_data_sample8, columns=info_names_sample8)\n",
    "#new_df_sample8_info"
   ]
  },
  {
   "cell_type": "code",
   "execution_count": 61,
   "metadata": {},
   "outputs": [],
   "source": [
    "AF_df_sample8 = new_df_sample8_info[\"AF\"].str.split(\"=\")\n",
    "AF_sample8 = AF_df_sample8.to_list()\n",
    "AF_name_sample8=[\"AF\", \"AF Value\"]\n",
    "AF_df2_sample8=pd.DataFrame(AF_sample8,columns=AF_name_sample8)\n",
    "#AF_df2_sample8"
   ]
  },
  {
   "cell_type": "code",
   "execution_count": 62,
   "metadata": {},
   "outputs": [
    {
     "data": {
      "image/png": "[encoded data removed]",
      "text/plain": [
       "<Figure size 432x288 with 1 Axes>"
      ]
     },
     "metadata": {
      "needs_background": "light"
     },
     "output_type": "display_data"
    }
   ],
   "source": [
    "allele_freq_sample8=AF_df2_sample8.loc[:,\"AF Value\"]\n",
    "fig,ax=plt.subplots()\n",
    "ax.hist(allele_freq_sample8, color='blue', alpha=0.5,bins=10)\n",
    "ax.set_ylabel(\"Frequency\")\n",
    "ax.set_title(\"Sample 8 allele freq\")\n",
    "plt.show()"
   ]
  },
  {
   "cell_type": "code",
   "execution_count": 63,
   "metadata": {},
   "outputs": [],
   "source": [
    "f9=read_vcf(\"/Users/cmdb/week2/A01_62_filter_annot.vcf\")"
   ]
  },
  {
   "cell_type": "code",
   "execution_count": 64,
   "metadata": {},
   "outputs": [],
   "source": [
    "split_sample9 = f9[\"Sample9\"].str.split(\":\")\n",
    "data9 = split_sample9.to_list()\n",
    "names9 = [\"GT1\", \"GQ1\",\"DP1\",\"RO1\",\"QR1\", \"AO1\", \"QA1\", \"GL1\"]\n",
    "new_df_sample9 = pd.DataFrame(data9, columns=names9)\n",
    "#new_df_sample9"
   ]
  },
  {
   "cell_type": "code",
   "execution_count": 65,
   "metadata": {},
   "outputs": [
    {
     "data": {
      "image/png": "[encoded data removed]",
      "text/plain": [
       "<Figure size 432x288 with 1 Axes>"
      ]
     },
     "metadata": {
      "needs_background": "light"
     },
     "output_type": "display_data"
    }
   ],
   "source": [
    "Depth_dist9=new_df_sample9.loc[:,\"DP1\"]\n",
    "fig,ax=plt.subplots()\n",
    "ax.hist(Depth_dist9, color='blue', alpha=0.5,bins=30)\n",
    "ax.set_ylabel(\"Frequency\")\n",
    "ax.set_title(\"Sample 9 Depth distribution\")\n",
    "plt.show()"
   ]
  },
  {
   "cell_type": "code",
   "execution_count": 66,
   "metadata": {},
   "outputs": [
    {
     "data": {
      "image/png": "[encoded data removed]",
      "text/plain": [
       "<Figure size 432x288 with 1 Axes>"
      ]
     },
     "metadata": {
      "needs_background": "light"
     },
     "output_type": "display_data"
    }
   ],
   "source": [
    "Quality_dist9=new_df_sample9.loc[:,\"GQ1\"]\n",
    "fig,ax=plt.subplots()\n",
    "ax.hist(Quality_dist9, color='blue', alpha=0.5,bins=50)\n",
    "ax.set_ylabel(\"Frequency\")\n",
    "ax.set_title(\"Sample 9 quality distribution\")\n",
    "plt.show()"
   ]
  },
  {
   "cell_type": "code",
   "execution_count": 67,
   "metadata": {},
   "outputs": [],
   "source": [
    "split_info_sample9 = f9[\"INFO\"].str.split(\";\")\n",
    "info_data_sample9 = split_info_sample9.to_list()\n",
    "info_names_sample9 = [\"AB\", \"ABP\",\"AC\",\"AF\",\"5\", \"6\", \"7\", \"8\", \"9\",\"10\",\"11\",\"12\",\"13\",\"14\",\"15\",\"16\",\"17\",\"18\",\"19\",\"20\",\"21\",\"22\",\n",
    "\"23\",\"24\",\"25\",\"26\",\"27\",\"28\",\"29\",\"30\",\"31\",\"32\",\"33\",\"34\",\"35\",\"36\",\"37\",\"38\",\"39\",\"40\",\"41\",\"snpeff\",\"43\"]\n",
    "new_df_sample9_info = pd.DataFrame(info_data_sample9, columns=info_names_sample9)\n",
    "#new_df_sample9_info"
   ]
  },
  {
   "cell_type": "code",
   "execution_count": 68,
   "metadata": {},
   "outputs": [],
   "source": [
    "AF_df_sample9 = new_df_sample9_info[\"AF\"].str.split(\"=\")\n",
    "AF_sample9 = AF_df_sample9.to_list()\n",
    "AF_name_sample9=[\"AF\", \"AF Value\"]\n",
    "AF_df2_sample9=pd.DataFrame(AF_sample9,columns=AF_name_sample9)\n",
    "#AF_df2_sample9"
   ]
  },
  {
   "cell_type": "code",
   "execution_count": 69,
   "metadata": {},
   "outputs": [
    {
     "data": {
      "image/png": "[encoded data removed]",
      "text/plain": [
       "<Figure size 432x288 with 1 Axes>"
      ]
     },
     "metadata": {
      "needs_background": "light"
     },
     "output_type": "display_data"
    }
   ],
   "source": [
    "allele_freq_sample9=AF_df2_sample9.loc[:,\"AF Value\"]\n",
    "fig,ax=plt.subplots()\n",
    "ax.hist(allele_freq_sample9, color='blue', alpha=0.5,bins=10)\n",
    "ax.set_ylabel(\"Frequency\")\n",
    "ax.set_title(\"Sample 9 allele freq\")\n",
    "plt.show()"
   ]
  },
  {
   "cell_type": "code",
   "execution_count": 70,
   "metadata": {},
   "outputs": [],
   "source": [
    "f10=read_vcf(\"/Users/cmdb/week2/A01_63_filter_annot.vcf\")"
   ]
  },
  {
   "cell_type": "code",
   "execution_count": 71,
   "metadata": {},
   "outputs": [],
   "source": [
    "split_sample10 = f10[\"Sample10\"].str.split(\":\")\n",
    "data10 = split_sample10.to_list()\n",
    "names10 = [\"GT1\", \"GQ1\",\"DP1\",\"RO1\",\"QR1\", \"AO1\", \"QA1\", \"GL1\"]\n",
    "new_df_sample10 = pd.DataFrame(data10, columns=names10)\n",
    "#new_df_sample10"
   ]
  },
  {
   "cell_type": "code",
   "execution_count": 72,
   "metadata": {},
   "outputs": [
    {
     "data": {
      "image/png": "[encoded data removed]",
      "text/plain": [
       "<Figure size 432x288 with 1 Axes>"
      ]
     },
     "metadata": {
      "needs_background": "light"
     },
     "output_type": "display_data"
    }
   ],
   "source": [
    "Depth_dist10=new_df_sample10.loc[:,\"DP1\"]\n",
    "fig,ax=plt.subplots()\n",
    "ax.hist(Depth_dist10, color='blue', alpha=0.5,bins=30)\n",
    "ax.set_ylabel(\"Frequency\")\n",
    "ax.set_title(\"Sample 10 Depth distribution\")\n",
    "plt.show()"
   ]
  },
  {
   "cell_type": "code",
   "execution_count": 73,
   "metadata": {},
   "outputs": [
    {
     "data": {
      "image/png": "[encoded data removed]",
      "text/plain": [
       "<Figure size 432x288 with 1 Axes>"
      ]
     },
     "metadata": {
      "needs_background": "light"
     },
     "output_type": "display_data"
    }
   ],
   "source": [
    "Quality_dist10=new_df_sample10.loc[:,\"GQ1\"]\n",
    "fig,ax=plt.subplots()\n",
    "ax.hist(Quality_dist10, color='blue', alpha=0.5,bins=50)\n",
    "ax.set_ylabel(\"Frequency\")\n",
    "ax.set_title(\"Sample 10 quality distribution\")\n",
    "plt.show()"
   ]
  },
  {
   "cell_type": "code",
   "execution_count": 74,
   "metadata": {},
   "outputs": [],
   "source": [
    "split_info_sample10 = f10[\"INFO\"].str.split(\";\")\n",
    "info_data_sample10 = split_info_sample10.to_list()\n",
    "info_names_sample10 = [\"AB\", \"ABP\",\"AC\",\"AF\",\"5\", \"6\", \"7\", \"8\", \"9\",\"10\",\"11\",\"12\",\"13\",\"14\",\"15\",\"16\",\"17\",\"18\",\"19\",\"20\",\"21\",\"22\",\n",
    "\"23\",\"24\",\"25\",\"26\",\"27\",\"28\",\"29\",\"30\",\"31\",\"32\",\"33\",\"34\",\"35\",\"36\",\"37\",\"38\",\"39\",\"40\",\"41\",\"snpeff\",\"43\",\"44\"]\n",
    "new_df_sample10_info = pd.DataFrame(info_data_sample10, columns=info_names_sample10)\n",
    "#new_df_sample4_info"
   ]
  },
  {
   "cell_type": "code",
   "execution_count": 75,
   "metadata": {},
   "outputs": [],
   "source": [
    "AF_df_sample10 = new_df_sample10_info[\"AF\"].str.split(\"=\")\n",
    "AF_sample10 = AF_df_sample10.to_list()\n",
    "AF_name_sample10=[\"AF\", \"AF Value\"]\n",
    "AF_df2_sample10=pd.DataFrame(AF_sample10,columns=AF_name_sample10)\n",
    "#AF_df2_sample10"
   ]
  },
  {
   "cell_type": "code",
   "execution_count": 76,
   "metadata": {},
   "outputs": [
    {
     "data": {
      "image/png": "[encoded data removed]",
      "text/plain": [
       "<Figure size 432x288 with 1 Axes>"
      ]
     },
     "metadata": {
      "needs_background": "light"
     },
     "output_type": "display_data"
    }
   ],
   "source": [
    "allele_freq_sample10=AF_df2_sample10.loc[:,\"AF Value\"]\n",
    "fig,ax=plt.subplots()\n",
    "ax.hist(allele_freq_sample10, color='blue', alpha=0.5,bins=10)\n",
    "ax.set_ylabel(\"Frequency\")\n",
    "ax.set_title(\"Sample 10 allele freq\")\n",
    "plt.show()"
   ]
  },
  {
   "cell_type": "markdown",
   "metadata": {},
   "source": [
    "## Graph all plots together"
   ]
  },
  {
   "cell_type": "code",
   "execution_count": 77,
   "metadata": {},
   "outputs": [
    {
     "data": {
      "image/png": "[encoded data removed]",
      "text/plain": [
       "<Figure size 432x288 with 10 Axes>"
      ]
     },
     "metadata": {
      "needs_background": "light"
     },
     "output_type": "display_data"
    }
   ],
   "source": [
    "Depth_dist=new_df_sample1.loc[:,\"DP1\"]\n",
    "Depth_dist2=new_df_sample2.loc[:,\"DP1\"]\n",
    "Depth_dist3=new_df_sample3.loc[:,\"DP1\"]\n",
    "Depth_dist4=new_df_sample4.loc[:,\"DP1\"]\n",
    "Depth_dist5=new_df_sample5.loc[:,\"DP1\"]\n",
    "Depth_dist6=new_df_sample6.loc[:,\"DP1\"]\n",
    "Depth_dist7=new_df_sample7.loc[:,\"DP1\"]\n",
    "Depth_dist8=new_df_sample8.loc[:,\"DP1\"]\n",
    "Depth_dist9=new_df_sample9.loc[:,\"DP1\"]\n",
    "Depth_dist10=new_df_sample10.loc[:,\"DP1\"]\n",
    "\n",
    "fig,ax=plt.subplots(10)\n",
    "ax[0].hist(Depth_dist, color='blue', alpha=0.5,bins=30)\n",
    "ax[1].hist(Depth_dist2, color='blue', alpha=0.5,bins=30)\n",
    "ax[2].hist(Depth_dist3, color='blue', alpha=0.5,bins=30)\n",
    "ax[3].hist(Depth_dist4, color='blue', alpha=0.5,bins=30)\n",
    "ax[4].hist(Depth_dist5, color='blue', alpha=0.5,bins=30)\n",
    "ax[5].hist(Depth_dist6, color='blue', alpha=0.5,bins=30)\n",
    "ax[6].hist(Depth_dist7, color='blue', alpha=0.5,bins=30)\n",
    "ax[7].hist(Depth_dist8, color='blue', alpha=0.5,bins=30)\n",
    "ax[8].hist(Depth_dist9, color='blue', alpha=0.5,bins=30)\n",
    "ax[9].hist(Depth_dist10, color='blue', alpha=0.5,bins=30)\n",
    "\n",
    "ax[0].set_ylabel(\"Frequency\")\n",
    "ax[0].set_title(\"Sample 1 Depth distribution\")\n",
    "ax[1].set_title(\"Sample 2 Depth distribution\")\n",
    "ax[2].set_title(\"Sample 3 Depth distribution\")\n",
    "ax[3].set_title(\"Sample 4 Depth distribution\")\n",
    "ax[4].set_title(\"Sample 5 Depth distribution\")\n",
    "ax[5].set_title(\"Sample 6 Depth distribution\")\n",
    "ax[6].set_title(\"Sample 7 Depth distribution\")\n",
    "ax[7].set_title(\"Sample 8 Depth distribution\")\n",
    "ax[8].set_title(\"Sample 9 Depth distribution\")\n",
    "ax[9].set_title(\"Sample 10 Depth distribution\")\n",
    "\n",
    "plt.show()"
   ]
  },
  {
   "cell_type": "code",
   "execution_count": 78,
   "metadata": {},
   "outputs": [
    {
     "data": {
      "image/png": "[encoded data removed]",
      "text/plain": [
       "<Figure size 432x288 with 10 Axes>"
      ]
     },
     "metadata": {
      "needs_background": "light"
     },
     "output_type": "display_data"
    }
   ],
   "source": [
    "allele_freq=AF_df2.loc[:,\"AF Value\"]\n",
    "allele_freq_sample2=AF_df2_sample2.loc[:,\"AF Value\"]\n",
    "allele_freq_sample3=AF_df2_sample3.loc[:,\"AF Value\"]\n",
    "allele_freq_sample4=AF_df2_sample4.loc[:,\"AF Value\"]\n",
    "allele_freq_sample5=AF_df2_sample5.loc[:,\"AF Value\"]\n",
    "allele_freq_sample6=AF_df2_sample6.loc[:,\"AF Value\"]\n",
    "allele_freq_sample7=AF_df2_sample7.loc[:,\"AF Value\"]\n",
    "allele_freq_sample8=AF_df2_sample8.loc[:,\"AF Value\"]\n",
    "allele_freq_sample9=AF_df2_sample9.loc[:,\"AF Value\"]\n",
    "allele_freq_sample10=AF_df2_sample10.loc[:,\"AF Value\"]\n",
    "\n",
    "fig,ax=plt.subplots(10)\n",
    "ax[0].hist(allele_freq, color='blue', alpha=0.5,bins=10)\n",
    "ax[1].hist(allele_freq_sample2, color='blue', alpha=0.5,bins=10)\n",
    "ax[2].hist(allele_freq_sample3, color='blue', alpha=0.5,bins=10)\n",
    "ax[3].hist(allele_freq_sample4, color='blue', alpha=0.5,bins=10)\n",
    "ax[4].hist(allele_freq_sample5, color='blue', alpha=0.5,bins=10)\n",
    "ax[5].hist(allele_freq_sample6, color='blue', alpha=0.5,bins=10)\n",
    "ax[6].hist(allele_freq_sample7, color='blue', alpha=0.5,bins=10)\n",
    "ax[7].hist(allele_freq_sample8, color='blue', alpha=0.5,bins=10)\n",
    "ax[8].hist(allele_freq_sample9, color='blue', alpha=0.5,bins=10)\n",
    "ax[9].hist(allele_freq_sample10, color='blue', alpha=0.5,bins=10)\n",
    "\n",
    "ax[1].set_ylabel(\"Frequency\")\n",
    "ax[0].set_title(\"Sample 1 allele freq\")\n",
    "ax[1].set_title(\"Sample 2 allele freq\")\n",
    "ax[2].set_title(\"Sample 3 allele freq\")\n",
    "ax[3].set_title(\"Sample 4 allele freq\")\n",
    "ax[4].set_title(\"Sample 5 allele freq\")\n",
    "ax[5].set_title(\"Sample 6 allele freq\")\n",
    "ax[6].set_title(\"Sample 7 allele freq\")\n",
    "ax[7].set_title(\"Sample 8 allele freq\")\n",
    "ax[8].set_title(\"Sample 9 allele freq\")\n",
    "ax[9].set_title(\"Sample 10 allele freq\")\n",
    "\n",
    "plt.show()"
   ]
  },
  {
   "cell_type": "code",
   "execution_count": null,
   "metadata": {},
   "outputs": [],
   "source": [
    "Quality_dist=new_df_sample1.loc[:,\"GQ1\"]\n",
    "Quality_dist2=new_df_sample2.loc[:,\"GQ1\"]\n",
    "Quality_dist3=new_df_sample3.loc[:,\"GQ1\"]\n",
    "Quality_dist4=new_df_sample4.loc[:,\"GQ1\"]\n",
    "Quality_dist5=new_df_sample5.loc[:,\"GQ1\"]\n",
    "Quality_dist6=new_df_sample6.loc[:,\"GQ1\"]\n",
    "Quality_dist7=new_df_sample7.loc[:,\"GQ1\"]\n",
    "Quality_dist8=new_df_sample8.loc[:,\"GQ1\"]\n",
    "Quality_dist9=new_df_sample9.loc[:,\"GQ1\"]\n",
    "Quality_dist10=new_df_sample10.loc[:,\"GQ1\"]\n",
    "\n",
    "\n",
    "fig,ax=plt.subplots(10)\n",
    "ax[0].hist(Quality_dist, color='blue', alpha=0.5,bins=50)\n",
    "ax[1].hist(Quality_dist2, color='blue', alpha=0.5,bins=50)\n",
    "ax[2].hist(Quality_dist3, color='blue', alpha=0.5,bins=50)\n",
    "ax[3].hist(Quality_dist4, color='blue', alpha=0.5,bins=50)\n",
    "ax[4].hist(Quality_dist5, color='blue', alpha=0.5,bins=50)\n",
    "ax[5].hist(Quality_dist6, color='blue', alpha=0.5,bins=50)\n",
    "ax[6].hist(Quality_dist7, color='blue', alpha=0.5,bins=50)\n",
    "ax[7].hist(Quality_dist8, color='blue', alpha=0.5,bins=50)\n",
    "ax[8].hist(Quality_dist9, color='blue', alpha=0.5,bins=50)\n",
    "ax[9].hist(Quality_dist10, color='blue', alpha=0.5,bins=50)\n",
    "\n",
    "\n",
    "ax[0].set_ylabel(\"Frequency\")\n",
    "ax[0].set_title(\"Sample 1 quality distribution\")\n",
    "ax[1].set_title(\"Sample 2 quality distribution\")\n",
    "ax[2].set_title(\"Sample 3 quality distribution\")\n",
    "ax[3].set_title(\"Sample 4 quality distribution\")\n",
    "ax[4].set_title(\"Sample 5 quality distribution\")\n",
    "ax[5].set_title(\"Sample 6 quality distribution\")\n",
    "ax[6].set_title(\"Sample 7 quality distribution\")\n",
    "ax[7].set_title(\"Sample 8 quality distribution\")\n",
    "ax[8].set_title(\"Sample 9 quality distribution\")\n",
    "ax[9].set_title(\"Sample 10 quality distribution\")\n",
    "\n",
    "plt.show()"
   ]
  }
 ],
 "metadata": {
  "kernelspec": {
   "display_name": "Python 3",
   "language": "python",
   "name": "python3"
  },
  "language_info": {
   "codemirror_mode": {
    "name": "ipython",
    "version": 3
   },
   "file_extension": ".py",
   "mimetype": "text/x-python",
   "name": "python",
   "nbconvert_exporter": "python",
   "pygments_lexer": "ipython3",
   "version": "3.7.1"
  }
 },
 "nbformat": 4,
 "nbformat_minor": 4
}
